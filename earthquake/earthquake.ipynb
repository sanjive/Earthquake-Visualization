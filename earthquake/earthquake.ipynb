{
 "cells": [
  {
   "cell_type": "code",
   "execution_count": 1,
   "metadata": {
    "ExecuteTime": {
     "end_time": "2020-06-27T03:12:39.700706Z",
     "start_time": "2020-06-27T03:12:39.096104Z"
    }
   },
   "outputs": [],
   "source": [
    "# Dependencies\n",
    "# ----------------------------------\n",
    "\n",
    "import os\n",
    "\n",
    "import numpy as np\n",
    "import pandas as pd\n",
    "\n",
    "# Import the method used for connecting to DBs\n",
    "from sqlalchemy import create_engine\n",
    "\n",
    "# Allow us to declare column types\n",
    "from sqlalchemy import Column, Integer, String, Float \n",
    "\n",
    "# Import the methods needed to abstract classes into tables\n",
    "from sqlalchemy.ext.declarative import declarative_base\n",
    "\n",
    "# Import Session to bind to the DB\n",
    "from sqlalchemy.orm import Session\n"
   ]
  },
  {
   "cell_type": "code",
   "execution_count": 2,
   "metadata": {
    "ExecuteTime": {
     "end_time": "2020-06-27T03:12:39.705487Z",
     "start_time": "2020-06-27T03:12:39.703479Z"
    }
   },
   "outputs": [],
   "source": [
    "## OS command to get the cwd and change the cwd\n",
    "##---------------------------------------------\n",
    "## Get the current wroking directory\n",
    "#os.getcwd()\n",
    "## In the path the backward slash (\\) needs to be escaped with another backslash (\\)\n",
    "#os.chdir(\"C:\\\\Users\\\\sanji\\\\Documents\\\\project\\\\p2-earthquake-visualization\\\\earthquake\")\n",
    "## Verify the cwd after the change\n",
    "#os.getcwd()"
   ]
  },
  {
   "cell_type": "code",
   "execution_count": 3,
   "metadata": {
    "ExecuteTime": {
     "end_time": "2020-06-27T03:12:39.741379Z",
     "start_time": "2020-06-27T03:12:39.707469Z"
    }
   },
   "outputs": [],
   "source": [
    "# Define the raw data csv file to load, process and later save it to the database\n",
    "#----------------------------------------------\n",
    "earthquake_csv = \"static/data/earthquake.csv\"\n",
    "\n",
    "# Read the csv data file into pandas dataframe\n",
    "#------------------------------------------------\n",
    "earthquake_df = pd.read_csv(earthquake_csv, encoding=\"ISO-8859-1\")"
   ]
  },
  {
   "cell_type": "code",
   "execution_count": 4,
   "metadata": {
    "ExecuteTime": {
     "end_time": "2020-06-27T03:12:39.778279Z",
     "start_time": "2020-06-27T03:12:39.743372Z"
    },
    "code_folding": [],
    "scrolled": false
   },
   "outputs": [
    {
     "data": {
      "text/html": [
       "<div>\n",
       "<style scoped>\n",
       "    .dataframe tbody tr th:only-of-type {\n",
       "        vertical-align: middle;\n",
       "    }\n",
       "\n",
       "    .dataframe tbody tr th {\n",
       "        vertical-align: top;\n",
       "    }\n",
       "\n",
       "    .dataframe thead th {\n",
       "        text-align: right;\n",
       "    }\n",
       "</style>\n",
       "<table border=\"1\" class=\"dataframe\">\n",
       "  <thead>\n",
       "    <tr style=\"text-align: right;\">\n",
       "      <th></th>\n",
       "      <th>ID</th>\n",
       "      <th>FLAG_TSUNAMI</th>\n",
       "      <th>YEAR</th>\n",
       "      <th>MONTH</th>\n",
       "      <th>DAY</th>\n",
       "      <th>FOCAL_DEPTH</th>\n",
       "      <th>EQ_PRIMARY</th>\n",
       "      <th>INTENSITY</th>\n",
       "      <th>COUNTRY</th>\n",
       "      <th>STATE</th>\n",
       "      <th>...</th>\n",
       "      <th>TOTAL_MISSING</th>\n",
       "      <th>TOTAL_MISSING_DESCRIPTION</th>\n",
       "      <th>TOTAL_INJURIES</th>\n",
       "      <th>TOTAL_INJURIES_DESCRIPTION</th>\n",
       "      <th>TOTAL_DAMAGE_MILLIONS_DOLLARS</th>\n",
       "      <th>TOTAL_DAMAGE_DESCRIPTION</th>\n",
       "      <th>TOTAL_HOUSES_DESTROYED</th>\n",
       "      <th>TOTAL_HOUSES_DESTROYED_DESCRIPTION</th>\n",
       "      <th>TOTAL_HOUSES_DAMAGED</th>\n",
       "      <th>TOTAL_HOUSES_DAMAGED_DESCRIPTION</th>\n",
       "    </tr>\n",
       "  </thead>\n",
       "  <tbody>\n",
       "    <tr>\n",
       "      <th>0</th>\n",
       "      <td>1</td>\n",
       "      <td>1</td>\n",
       "      <td>-2150</td>\n",
       "      <td>NaN</td>\n",
       "      <td>NaN</td>\n",
       "      <td>NaN</td>\n",
       "      <td>7.3</td>\n",
       "      <td>NaN</td>\n",
       "      <td>JORDAN</td>\n",
       "      <td>NaN</td>\n",
       "      <td>...</td>\n",
       "      <td>NaN</td>\n",
       "      <td>NaN</td>\n",
       "      <td>NaN</td>\n",
       "      <td>NaN</td>\n",
       "      <td>NaN</td>\n",
       "      <td>NaN</td>\n",
       "      <td>NaN</td>\n",
       "      <td>NaN</td>\n",
       "      <td>NaN</td>\n",
       "      <td>NaN</td>\n",
       "    </tr>\n",
       "    <tr>\n",
       "      <th>1</th>\n",
       "      <td>3</td>\n",
       "      <td>0</td>\n",
       "      <td>-2000</td>\n",
       "      <td>NaN</td>\n",
       "      <td>NaN</td>\n",
       "      <td>18.0</td>\n",
       "      <td>7.1</td>\n",
       "      <td>10.0</td>\n",
       "      <td>TURKMENISTAN</td>\n",
       "      <td>NaN</td>\n",
       "      <td>...</td>\n",
       "      <td>NaN</td>\n",
       "      <td>NaN</td>\n",
       "      <td>NaN</td>\n",
       "      <td>NaN</td>\n",
       "      <td>NaN</td>\n",
       "      <td>1--limited(~$1 million)</td>\n",
       "      <td>NaN</td>\n",
       "      <td>1--Few(~1 to 50 houses)</td>\n",
       "      <td>NaN</td>\n",
       "      <td>NaN</td>\n",
       "    </tr>\n",
       "    <tr>\n",
       "      <th>2</th>\n",
       "      <td>2</td>\n",
       "      <td>1</td>\n",
       "      <td>-2000</td>\n",
       "      <td>NaN</td>\n",
       "      <td>NaN</td>\n",
       "      <td>NaN</td>\n",
       "      <td>NaN</td>\n",
       "      <td>10.0</td>\n",
       "      <td>SYRIA</td>\n",
       "      <td>NaN</td>\n",
       "      <td>...</td>\n",
       "      <td>NaN</td>\n",
       "      <td>NaN</td>\n",
       "      <td>NaN</td>\n",
       "      <td>NaN</td>\n",
       "      <td>NaN</td>\n",
       "      <td>NaN</td>\n",
       "      <td>NaN</td>\n",
       "      <td>NaN</td>\n",
       "      <td>NaN</td>\n",
       "      <td>NaN</td>\n",
       "    </tr>\n",
       "    <tr>\n",
       "      <th>3</th>\n",
       "      <td>5877</td>\n",
       "      <td>1</td>\n",
       "      <td>-1610</td>\n",
       "      <td>NaN</td>\n",
       "      <td>NaN</td>\n",
       "      <td>NaN</td>\n",
       "      <td>NaN</td>\n",
       "      <td>NaN</td>\n",
       "      <td>GREECE</td>\n",
       "      <td>NaN</td>\n",
       "      <td>...</td>\n",
       "      <td>NaN</td>\n",
       "      <td>NaN</td>\n",
       "      <td>NaN</td>\n",
       "      <td>NaN</td>\n",
       "      <td>NaN</td>\n",
       "      <td>3--Severe(~$5 to $24 million)</td>\n",
       "      <td>NaN</td>\n",
       "      <td>NaN</td>\n",
       "      <td>NaN</td>\n",
       "      <td>NaN</td>\n",
       "    </tr>\n",
       "    <tr>\n",
       "      <th>4</th>\n",
       "      <td>8</td>\n",
       "      <td>0</td>\n",
       "      <td>-1566</td>\n",
       "      <td>NaN</td>\n",
       "      <td>NaN</td>\n",
       "      <td>NaN</td>\n",
       "      <td>NaN</td>\n",
       "      <td>10.0</td>\n",
       "      <td>ISRAEL</td>\n",
       "      <td>NaN</td>\n",
       "      <td>...</td>\n",
       "      <td>NaN</td>\n",
       "      <td>NaN</td>\n",
       "      <td>NaN</td>\n",
       "      <td>NaN</td>\n",
       "      <td>NaN</td>\n",
       "      <td>NaN</td>\n",
       "      <td>NaN</td>\n",
       "      <td>NaN</td>\n",
       "      <td>NaN</td>\n",
       "      <td>NaN</td>\n",
       "    </tr>\n",
       "  </tbody>\n",
       "</table>\n",
       "<p>5 rows × 27 columns</p>\n",
       "</div>"
      ],
      "text/plain": [
       "     ID  FLAG_TSUNAMI  YEAR  MONTH  DAY  FOCAL_DEPTH  EQ_PRIMARY  INTENSITY  \\\n",
       "0     1             1 -2150    NaN  NaN          NaN         7.3        NaN   \n",
       "1     3             0 -2000    NaN  NaN         18.0         7.1       10.0   \n",
       "2     2             1 -2000    NaN  NaN          NaN         NaN       10.0   \n",
       "3  5877             1 -1610    NaN  NaN          NaN         NaN        NaN   \n",
       "4     8             0 -1566    NaN  NaN          NaN         NaN       10.0   \n",
       "\n",
       "        COUNTRY STATE  ... TOTAL_MISSING TOTAL_MISSING_DESCRIPTION  \\\n",
       "0        JORDAN   NaN  ...           NaN                       NaN   \n",
       "1  TURKMENISTAN   NaN  ...           NaN                       NaN   \n",
       "2         SYRIA   NaN  ...           NaN                       NaN   \n",
       "3        GREECE   NaN  ...           NaN                       NaN   \n",
       "4        ISRAEL   NaN  ...           NaN                       NaN   \n",
       "\n",
       "  TOTAL_INJURIES  TOTAL_INJURIES_DESCRIPTION TOTAL_DAMAGE_MILLIONS_DOLLARS  \\\n",
       "0            NaN                         NaN                           NaN   \n",
       "1            NaN                         NaN                           NaN   \n",
       "2            NaN                         NaN                           NaN   \n",
       "3            NaN                         NaN                           NaN   \n",
       "4            NaN                         NaN                           NaN   \n",
       "\n",
       "        TOTAL_DAMAGE_DESCRIPTION TOTAL_HOUSES_DESTROYED  \\\n",
       "0                            NaN                    NaN   \n",
       "1        1--limited(~$1 million)                    NaN   \n",
       "2                            NaN                    NaN   \n",
       "3  3--Severe(~$5 to $24 million)                    NaN   \n",
       "4                            NaN                    NaN   \n",
       "\n",
       "   TOTAL_HOUSES_DESTROYED_DESCRIPTION TOTAL_HOUSES_DAMAGED  \\\n",
       "0                                 NaN                  NaN   \n",
       "1             1--Few(~1 to 50 houses)                  NaN   \n",
       "2                                 NaN                  NaN   \n",
       "3                                 NaN                  NaN   \n",
       "4                                 NaN                  NaN   \n",
       "\n",
       "   TOTAL_HOUSES_DAMAGED_DESCRIPTION  \n",
       "0                               NaN  \n",
       "1                               NaN  \n",
       "2                               NaN  \n",
       "3                               NaN  \n",
       "4                               NaN  \n",
       "\n",
       "[5 rows x 27 columns]"
      ]
     },
     "execution_count": 4,
     "metadata": {},
     "output_type": "execute_result"
    }
   ],
   "source": [
    "# Show just the header\n",
    "#------------------------\n",
    "earthquake_df.head()"
   ]
  },
  {
   "cell_type": "code",
   "execution_count": 5,
   "metadata": {
    "ExecuteTime": {
     "end_time": "2020-06-27T03:12:39.786257Z",
     "start_time": "2020-06-27T03:12:39.780274Z"
    },
    "scrolled": true
   },
   "outputs": [
    {
     "data": {
      "text/plain": [
       "Index(['ID', 'FLAG_TSUNAMI', 'YEAR', 'MONTH', 'DAY', 'FOCAL_DEPTH',\n",
       "       'EQ_PRIMARY', 'INTENSITY', 'COUNTRY', 'STATE', 'LOCATION_NAME',\n",
       "       'LATITUDE', 'LONGITUDE', 'REGION_CODE', 'REGION', 'TOTAL_DEATHS',\n",
       "       'TOTAL_DEATHS_DESCRIPTION', 'TOTAL_MISSING',\n",
       "       'TOTAL_MISSING_DESCRIPTION', 'TOTAL_INJURIES',\n",
       "       'TOTAL_INJURIES_DESCRIPTION', 'TOTAL_DAMAGE_MILLIONS_DOLLARS',\n",
       "       'TOTAL_DAMAGE_DESCRIPTION', 'TOTAL_HOUSES_DESTROYED',\n",
       "       'TOTAL_HOUSES_DESTROYED_DESCRIPTION', 'TOTAL_HOUSES_DAMAGED',\n",
       "       'TOTAL_HOUSES_DAMAGED_DESCRIPTION'],\n",
       "      dtype='object')"
      ]
     },
     "execution_count": 5,
     "metadata": {},
     "output_type": "execute_result"
    }
   ],
   "source": [
    "# Get the columns in the dataFrame\n",
    "#---------------------------------------------------------------\n",
    "earthquake_df.columns"
   ]
  },
  {
   "cell_type": "code",
   "execution_count": 6,
   "metadata": {
    "ExecuteTime": {
     "end_time": "2020-06-27T03:12:39.794238Z",
     "start_time": "2020-06-27T03:12:39.787255Z"
    }
   },
   "outputs": [],
   "source": [
    "# Specify the columns that will need to be loaded into the table\n",
    "#---------------------------------------------------------------\n",
    "edited_earthquake_df = earthquake_df[['ID','FLAG_TSUNAMI','YEAR','EQ_PRIMARY','INTENSITY','COUNTRY','STATE','LOCATION_NAME','LATITUDE','LONGITUDE','REGION_CODE','REGION','TOTAL_DEATHS_DESCRIPTION','TOTAL_MISSING_DESCRIPTION','TOTAL_INJURIES_DESCRIPTION','TOTAL_DAMAGE_DESCRIPTION','TOTAL_HOUSES_DESTROYED_DESCRIPTION','TOTAL_HOUSES_DAMAGED_DESCRIPTION']]"
   ]
  },
  {
   "cell_type": "code",
   "execution_count": 7,
   "metadata": {
    "ExecuteTime": {
     "end_time": "2020-06-27T03:12:39.814187Z",
     "start_time": "2020-06-27T03:12:39.798226Z"
    },
    "scrolled": true
   },
   "outputs": [
    {
     "data": {
      "text/html": [
       "<div>\n",
       "<style scoped>\n",
       "    .dataframe tbody tr th:only-of-type {\n",
       "        vertical-align: middle;\n",
       "    }\n",
       "\n",
       "    .dataframe tbody tr th {\n",
       "        vertical-align: top;\n",
       "    }\n",
       "\n",
       "    .dataframe thead th {\n",
       "        text-align: right;\n",
       "    }\n",
       "</style>\n",
       "<table border=\"1\" class=\"dataframe\">\n",
       "  <thead>\n",
       "    <tr style=\"text-align: right;\">\n",
       "      <th></th>\n",
       "      <th>ID</th>\n",
       "      <th>FLAG_TSUNAMI</th>\n",
       "      <th>YEAR</th>\n",
       "      <th>EQ_PRIMARY</th>\n",
       "      <th>INTENSITY</th>\n",
       "      <th>COUNTRY</th>\n",
       "      <th>STATE</th>\n",
       "      <th>LOCATION_NAME</th>\n",
       "      <th>LATITUDE</th>\n",
       "      <th>LONGITUDE</th>\n",
       "      <th>REGION_CODE</th>\n",
       "      <th>REGION</th>\n",
       "      <th>TOTAL_DEATHS_DESCRIPTION</th>\n",
       "      <th>TOTAL_MISSING_DESCRIPTION</th>\n",
       "      <th>TOTAL_INJURIES_DESCRIPTION</th>\n",
       "      <th>TOTAL_DAMAGE_DESCRIPTION</th>\n",
       "      <th>TOTAL_HOUSES_DESTROYED_DESCRIPTION</th>\n",
       "      <th>TOTAL_HOUSES_DAMAGED_DESCRIPTION</th>\n",
       "    </tr>\n",
       "  </thead>\n",
       "  <tbody>\n",
       "    <tr>\n",
       "      <th>0</th>\n",
       "      <td>1</td>\n",
       "      <td>1</td>\n",
       "      <td>-2150</td>\n",
       "      <td>7.3</td>\n",
       "      <td>NaN</td>\n",
       "      <td>JORDAN</td>\n",
       "      <td>NaN</td>\n",
       "      <td>JORDAN:  BAB-A-DARAA,AL-KARAK</td>\n",
       "      <td>31.1</td>\n",
       "      <td>35.5</td>\n",
       "      <td>140</td>\n",
       "      <td>Middle East</td>\n",
       "      <td>NaN</td>\n",
       "      <td>NaN</td>\n",
       "      <td>NaN</td>\n",
       "      <td>NaN</td>\n",
       "      <td>NaN</td>\n",
       "      <td>NaN</td>\n",
       "    </tr>\n",
       "    <tr>\n",
       "      <th>1</th>\n",
       "      <td>3</td>\n",
       "      <td>0</td>\n",
       "      <td>-2000</td>\n",
       "      <td>7.1</td>\n",
       "      <td>10.0</td>\n",
       "      <td>TURKMENISTAN</td>\n",
       "      <td>NaN</td>\n",
       "      <td>TURKMENISTAN:  W</td>\n",
       "      <td>38</td>\n",
       "      <td>58.2</td>\n",
       "      <td>40</td>\n",
       "      <td>Central Asia and Caucasus</td>\n",
       "      <td>1--Few (~1 to 50 deaths)</td>\n",
       "      <td>NaN</td>\n",
       "      <td>NaN</td>\n",
       "      <td>1--limited(~$1 million)</td>\n",
       "      <td>1--Few(~1 to 50 houses)</td>\n",
       "      <td>NaN</td>\n",
       "    </tr>\n",
       "    <tr>\n",
       "      <th>2</th>\n",
       "      <td>2</td>\n",
       "      <td>1</td>\n",
       "      <td>-2000</td>\n",
       "      <td>NaN</td>\n",
       "      <td>10.0</td>\n",
       "      <td>SYRIA</td>\n",
       "      <td>NaN</td>\n",
       "      <td>SYRIA:  UGARIT</td>\n",
       "      <td>35.683</td>\n",
       "      <td>35.8</td>\n",
       "      <td>130</td>\n",
       "      <td>Southern Europe</td>\n",
       "      <td>3--Many (~101 to 1000 deaths)</td>\n",
       "      <td>NaN</td>\n",
       "      <td>NaN</td>\n",
       "      <td>NaN</td>\n",
       "      <td>NaN</td>\n",
       "      <td>NaN</td>\n",
       "    </tr>\n",
       "    <tr>\n",
       "      <th>3</th>\n",
       "      <td>5877</td>\n",
       "      <td>1</td>\n",
       "      <td>-1610</td>\n",
       "      <td>NaN</td>\n",
       "      <td>NaN</td>\n",
       "      <td>GREECE</td>\n",
       "      <td>NaN</td>\n",
       "      <td>GREECE:  THERA ISLAND (SANTORINI)</td>\n",
       "      <td>36.4</td>\n",
       "      <td>25.4</td>\n",
       "      <td>130</td>\n",
       "      <td>Southern Europe</td>\n",
       "      <td>3--Many (~101 to 1000 deaths)</td>\n",
       "      <td>NaN</td>\n",
       "      <td>NaN</td>\n",
       "      <td>3--Severe(~$5 to $24 million)</td>\n",
       "      <td>NaN</td>\n",
       "      <td>NaN</td>\n",
       "    </tr>\n",
       "    <tr>\n",
       "      <th>4</th>\n",
       "      <td>8</td>\n",
       "      <td>0</td>\n",
       "      <td>-1566</td>\n",
       "      <td>NaN</td>\n",
       "      <td>10.0</td>\n",
       "      <td>ISRAEL</td>\n",
       "      <td>NaN</td>\n",
       "      <td>ISRAEL:  ARIHA (JERICHO)</td>\n",
       "      <td>31.5</td>\n",
       "      <td>35.3</td>\n",
       "      <td>140</td>\n",
       "      <td>Middle East</td>\n",
       "      <td>NaN</td>\n",
       "      <td>NaN</td>\n",
       "      <td>NaN</td>\n",
       "      <td>NaN</td>\n",
       "      <td>NaN</td>\n",
       "      <td>NaN</td>\n",
       "    </tr>\n",
       "  </tbody>\n",
       "</table>\n",
       "</div>"
      ],
      "text/plain": [
       "     ID  FLAG_TSUNAMI  YEAR  EQ_PRIMARY  INTENSITY       COUNTRY STATE  \\\n",
       "0     1             1 -2150         7.3        NaN        JORDAN   NaN   \n",
       "1     3             0 -2000         7.1       10.0  TURKMENISTAN   NaN   \n",
       "2     2             1 -2000         NaN       10.0         SYRIA   NaN   \n",
       "3  5877             1 -1610         NaN        NaN        GREECE   NaN   \n",
       "4     8             0 -1566         NaN       10.0        ISRAEL   NaN   \n",
       "\n",
       "                       LOCATION_NAME LATITUDE LONGITUDE  REGION_CODE  \\\n",
       "0      JORDAN:  BAB-A-DARAA,AL-KARAK     31.1      35.5          140   \n",
       "1                   TURKMENISTAN:  W       38      58.2           40   \n",
       "2                     SYRIA:  UGARIT   35.683      35.8          130   \n",
       "3  GREECE:  THERA ISLAND (SANTORINI)     36.4      25.4          130   \n",
       "4           ISRAEL:  ARIHA (JERICHO)     31.5      35.3          140   \n",
       "\n",
       "                      REGION       TOTAL_DEATHS_DESCRIPTION  \\\n",
       "0                Middle East                            NaN   \n",
       "1  Central Asia and Caucasus       1--Few (~1 to 50 deaths)   \n",
       "2            Southern Europe  3--Many (~101 to 1000 deaths)   \n",
       "3            Southern Europe  3--Many (~101 to 1000 deaths)   \n",
       "4                Middle East                            NaN   \n",
       "\n",
       "  TOTAL_MISSING_DESCRIPTION TOTAL_INJURIES_DESCRIPTION  \\\n",
       "0                       NaN                        NaN   \n",
       "1                       NaN                        NaN   \n",
       "2                       NaN                        NaN   \n",
       "3                       NaN                        NaN   \n",
       "4                       NaN                        NaN   \n",
       "\n",
       "        TOTAL_DAMAGE_DESCRIPTION TOTAL_HOUSES_DESTROYED_DESCRIPTION  \\\n",
       "0                            NaN                                NaN   \n",
       "1        1--limited(~$1 million)            1--Few(~1 to 50 houses)   \n",
       "2                            NaN                                NaN   \n",
       "3  3--Severe(~$5 to $24 million)                                NaN   \n",
       "4                            NaN                                NaN   \n",
       "\n",
       "  TOTAL_HOUSES_DAMAGED_DESCRIPTION  \n",
       "0                              NaN  \n",
       "1                              NaN  \n",
       "2                              NaN  \n",
       "3                              NaN  \n",
       "4                              NaN  "
      ]
     },
     "execution_count": 7,
     "metadata": {},
     "output_type": "execute_result"
    }
   ],
   "source": [
    "# Show just the header\n",
    "#------------------------\n",
    "\n",
    "edited_earthquake_df.head()"
   ]
  },
  {
   "cell_type": "code",
   "execution_count": 8,
   "metadata": {
    "ExecuteTime": {
     "end_time": "2020-06-27T03:12:39.822161Z",
     "start_time": "2020-06-27T03:12:39.817175Z"
    },
    "scrolled": true
   },
   "outputs": [
    {
     "data": {
      "text/plain": [
       "Index(['ID', 'FLAG_TSUNAMI', 'YEAR', 'EQ_PRIMARY', 'INTENSITY', 'COUNTRY',\n",
       "       'STATE', 'LOCATION_NAME', 'LATITUDE', 'LONGITUDE', 'REGION_CODE',\n",
       "       'REGION', 'TOTAL_DEATHS_DESCRIPTION', 'TOTAL_MISSING_DESCRIPTION',\n",
       "       'TOTAL_INJURIES_DESCRIPTION', 'TOTAL_DAMAGE_DESCRIPTION',\n",
       "       'TOTAL_HOUSES_DESTROYED_DESCRIPTION',\n",
       "       'TOTAL_HOUSES_DAMAGED_DESCRIPTION'],\n",
       "      dtype='object')"
      ]
     },
     "execution_count": 8,
     "metadata": {},
     "output_type": "execute_result"
    }
   ],
   "source": [
    "# Get the columns in the dataFrame\n",
    "#---------------------------------------------------------------\n",
    "edited_earthquake_df.columns"
   ]
  },
  {
   "cell_type": "code",
   "execution_count": 9,
   "metadata": {
    "ExecuteTime": {
     "end_time": "2020-06-27T03:12:39.832173Z",
     "start_time": "2020-06-27T03:12:39.823160Z"
    }
   },
   "outputs": [],
   "source": [
    "edited2_earthquake_df = edited_earthquake_df.rename(columns={\n",
    "    'ID':'id',\n",
    "    'FLAG_TSUNAMI': 'tsunami_fl', \n",
    "    'YEAR':'year', \n",
    "    'EQ_PRIMARY':'magnitude',\n",
    "    'INTENSITY':'intensity',\n",
    "    'COUNTRY':'country',\n",
    "    'STATE':'state',\n",
    "    'LOCATION_NAME':'location',\n",
    "    'LATITUDE':'lat',\n",
    "    'LONGITUDE':'lng',\n",
    "    'REGION_CODE':'region_cd',\n",
    "    'REGION':'region',\n",
    "    'TOTAL_DEATHS_DESCRIPTION':'total_deaths_desc',\n",
    "    'TOTAL_MISSING_DESCRIPTION':'total_missing_desc',\n",
    "    'TOTAL_INJURIES_DESCRIPTION':'total_injuries_desc',\n",
    "    'TOTAL_DAMAGE_DESCRIPTION':'total_damage_desc',\n",
    "    'TOTAL_HOUSES_DESTROYED_DESCRIPTION':'total_houses_destroyed_desc',\n",
    "    'TOTAL_HOUSES_DAMAGED_DESCRIPTION':'total_houses_damaged_desc'\n",
    "})"
   ]
  },
  {
   "cell_type": "code",
   "execution_count": 10,
   "metadata": {
    "ExecuteTime": {
     "end_time": "2020-06-27T03:12:39.853080Z",
     "start_time": "2020-06-27T03:12:39.834130Z"
    },
    "scrolled": true
   },
   "outputs": [
    {
     "data": {
      "text/html": [
       "<div>\n",
       "<style scoped>\n",
       "    .dataframe tbody tr th:only-of-type {\n",
       "        vertical-align: middle;\n",
       "    }\n",
       "\n",
       "    .dataframe tbody tr th {\n",
       "        vertical-align: top;\n",
       "    }\n",
       "\n",
       "    .dataframe thead th {\n",
       "        text-align: right;\n",
       "    }\n",
       "</style>\n",
       "<table border=\"1\" class=\"dataframe\">\n",
       "  <thead>\n",
       "    <tr style=\"text-align: right;\">\n",
       "      <th></th>\n",
       "      <th>id</th>\n",
       "      <th>tsunami_fl</th>\n",
       "      <th>year</th>\n",
       "      <th>magnitude</th>\n",
       "      <th>intensity</th>\n",
       "      <th>country</th>\n",
       "      <th>state</th>\n",
       "      <th>location</th>\n",
       "      <th>lat</th>\n",
       "      <th>lng</th>\n",
       "      <th>region_cd</th>\n",
       "      <th>region</th>\n",
       "      <th>total_deaths_desc</th>\n",
       "      <th>total_missing_desc</th>\n",
       "      <th>total_injuries_desc</th>\n",
       "      <th>total_damage_desc</th>\n",
       "      <th>total_houses_destroyed_desc</th>\n",
       "      <th>total_houses_damaged_desc</th>\n",
       "    </tr>\n",
       "  </thead>\n",
       "  <tbody>\n",
       "    <tr>\n",
       "      <th>0</th>\n",
       "      <td>1</td>\n",
       "      <td>1</td>\n",
       "      <td>-2150</td>\n",
       "      <td>7.3</td>\n",
       "      <td>NaN</td>\n",
       "      <td>JORDAN</td>\n",
       "      <td>NaN</td>\n",
       "      <td>JORDAN:  BAB-A-DARAA,AL-KARAK</td>\n",
       "      <td>31.1</td>\n",
       "      <td>35.5</td>\n",
       "      <td>140</td>\n",
       "      <td>Middle East</td>\n",
       "      <td>NaN</td>\n",
       "      <td>NaN</td>\n",
       "      <td>NaN</td>\n",
       "      <td>NaN</td>\n",
       "      <td>NaN</td>\n",
       "      <td>NaN</td>\n",
       "    </tr>\n",
       "    <tr>\n",
       "      <th>1</th>\n",
       "      <td>3</td>\n",
       "      <td>0</td>\n",
       "      <td>-2000</td>\n",
       "      <td>7.1</td>\n",
       "      <td>10.0</td>\n",
       "      <td>TURKMENISTAN</td>\n",
       "      <td>NaN</td>\n",
       "      <td>TURKMENISTAN:  W</td>\n",
       "      <td>38</td>\n",
       "      <td>58.2</td>\n",
       "      <td>40</td>\n",
       "      <td>Central Asia and Caucasus</td>\n",
       "      <td>1--Few (~1 to 50 deaths)</td>\n",
       "      <td>NaN</td>\n",
       "      <td>NaN</td>\n",
       "      <td>1--limited(~$1 million)</td>\n",
       "      <td>1--Few(~1 to 50 houses)</td>\n",
       "      <td>NaN</td>\n",
       "    </tr>\n",
       "    <tr>\n",
       "      <th>2</th>\n",
       "      <td>2</td>\n",
       "      <td>1</td>\n",
       "      <td>-2000</td>\n",
       "      <td>NaN</td>\n",
       "      <td>10.0</td>\n",
       "      <td>SYRIA</td>\n",
       "      <td>NaN</td>\n",
       "      <td>SYRIA:  UGARIT</td>\n",
       "      <td>35.683</td>\n",
       "      <td>35.8</td>\n",
       "      <td>130</td>\n",
       "      <td>Southern Europe</td>\n",
       "      <td>3--Many (~101 to 1000 deaths)</td>\n",
       "      <td>NaN</td>\n",
       "      <td>NaN</td>\n",
       "      <td>NaN</td>\n",
       "      <td>NaN</td>\n",
       "      <td>NaN</td>\n",
       "    </tr>\n",
       "    <tr>\n",
       "      <th>3</th>\n",
       "      <td>5877</td>\n",
       "      <td>1</td>\n",
       "      <td>-1610</td>\n",
       "      <td>NaN</td>\n",
       "      <td>NaN</td>\n",
       "      <td>GREECE</td>\n",
       "      <td>NaN</td>\n",
       "      <td>GREECE:  THERA ISLAND (SANTORINI)</td>\n",
       "      <td>36.4</td>\n",
       "      <td>25.4</td>\n",
       "      <td>130</td>\n",
       "      <td>Southern Europe</td>\n",
       "      <td>3--Many (~101 to 1000 deaths)</td>\n",
       "      <td>NaN</td>\n",
       "      <td>NaN</td>\n",
       "      <td>3--Severe(~$5 to $24 million)</td>\n",
       "      <td>NaN</td>\n",
       "      <td>NaN</td>\n",
       "    </tr>\n",
       "    <tr>\n",
       "      <th>4</th>\n",
       "      <td>8</td>\n",
       "      <td>0</td>\n",
       "      <td>-1566</td>\n",
       "      <td>NaN</td>\n",
       "      <td>10.0</td>\n",
       "      <td>ISRAEL</td>\n",
       "      <td>NaN</td>\n",
       "      <td>ISRAEL:  ARIHA (JERICHO)</td>\n",
       "      <td>31.5</td>\n",
       "      <td>35.3</td>\n",
       "      <td>140</td>\n",
       "      <td>Middle East</td>\n",
       "      <td>NaN</td>\n",
       "      <td>NaN</td>\n",
       "      <td>NaN</td>\n",
       "      <td>NaN</td>\n",
       "      <td>NaN</td>\n",
       "      <td>NaN</td>\n",
       "    </tr>\n",
       "  </tbody>\n",
       "</table>\n",
       "</div>"
      ],
      "text/plain": [
       "     id  tsunami_fl  year  magnitude  intensity       country state  \\\n",
       "0     1           1 -2150        7.3        NaN        JORDAN   NaN   \n",
       "1     3           0 -2000        7.1       10.0  TURKMENISTAN   NaN   \n",
       "2     2           1 -2000        NaN       10.0         SYRIA   NaN   \n",
       "3  5877           1 -1610        NaN        NaN        GREECE   NaN   \n",
       "4     8           0 -1566        NaN       10.0        ISRAEL   NaN   \n",
       "\n",
       "                            location     lat   lng  region_cd  \\\n",
       "0      JORDAN:  BAB-A-DARAA,AL-KARAK    31.1  35.5        140   \n",
       "1                   TURKMENISTAN:  W      38  58.2         40   \n",
       "2                     SYRIA:  UGARIT  35.683  35.8        130   \n",
       "3  GREECE:  THERA ISLAND (SANTORINI)    36.4  25.4        130   \n",
       "4           ISRAEL:  ARIHA (JERICHO)    31.5  35.3        140   \n",
       "\n",
       "                      region              total_deaths_desc  \\\n",
       "0                Middle East                            NaN   \n",
       "1  Central Asia and Caucasus       1--Few (~1 to 50 deaths)   \n",
       "2            Southern Europe  3--Many (~101 to 1000 deaths)   \n",
       "3            Southern Europe  3--Many (~101 to 1000 deaths)   \n",
       "4                Middle East                            NaN   \n",
       "\n",
       "  total_missing_desc total_injuries_desc              total_damage_desc  \\\n",
       "0                NaN                 NaN                            NaN   \n",
       "1                NaN                 NaN        1--limited(~$1 million)   \n",
       "2                NaN                 NaN                            NaN   \n",
       "3                NaN                 NaN  3--Severe(~$5 to $24 million)   \n",
       "4                NaN                 NaN                            NaN   \n",
       "\n",
       "  total_houses_destroyed_desc total_houses_damaged_desc  \n",
       "0                         NaN                       NaN  \n",
       "1     1--Few(~1 to 50 houses)                       NaN  \n",
       "2                         NaN                       NaN  \n",
       "3                         NaN                       NaN  \n",
       "4                         NaN                       NaN  "
      ]
     },
     "execution_count": 10,
     "metadata": {},
     "output_type": "execute_result"
    }
   ],
   "source": [
    "edited2_earthquake_df.head()"
   ]
  },
  {
   "cell_type": "code",
   "execution_count": 11,
   "metadata": {
    "ExecuteTime": {
     "end_time": "2020-06-27T03:12:39.866044Z",
     "start_time": "2020-06-27T03:12:39.855074Z"
    }
   },
   "outputs": [],
   "source": [
    "# Create Class - Earthquake\n",
    "#---------------------------------------------\n",
    "# Set an object to utilize the default declarative base in SQL Alchemy\n",
    "Base = declarative_base()\n",
    "\n",
    "# Creates Class which will serve as the anchor point for the Table\n",
    "class Earthquake(Base):\n",
    "    __tablename__ = 'earthquake'\n",
    "    id = Column(Integer, primary_key=True)\n",
    "    tsunami_fl = Column(Integer, nullable=False)\n",
    "    year = Column(String(10))\n",
    "    magnitude = Column(Integer)\n",
    "    intensity = Column(Float)\n",
    "    country = Column(String(55), nullable=False)\n",
    "    state = Column(String(55))\n",
    "    location = Column(String(55))\n",
    "    lat = Column(Float)\n",
    "    lng = Column(Float)\n",
    "    region_cd = Column(String(55), nullable=False)\n",
    "    region = Column(String(55), nullable=False)\n",
    "    total_deaths_desc = Column(String(255))\n",
    "    total_missing_desc = Column(String(255))\n",
    "    total_injuries_desc = Column(String(255))\n",
    "    total_damage_desc = Column(String(255))\n",
    "    total_houses_destroyed_desc = Column(String(255))\n",
    "    total_houses_damaged_desc = Column(String(255))    "
   ]
  },
  {
   "cell_type": "code",
   "execution_count": 12,
   "metadata": {
    "ExecuteTime": {
     "end_time": "2020-06-27T03:12:39.886037Z",
     "start_time": "2020-06-27T03:12:39.867041Z"
    }
   },
   "outputs": [
    {
     "name": "stdout",
     "output_type": "stream",
     "text": [
      "2020-06-26 23:12:39,878 INFO sqlalchemy.engine.base.Engine SELECT CAST('test plain returns' AS VARCHAR(60)) AS anon_1\n",
      "2020-06-26 23:12:39,881 INFO sqlalchemy.engine.base.Engine ()\n",
      "2020-06-26 23:12:39,882 INFO sqlalchemy.engine.base.Engine SELECT CAST('test unicode returns' AS VARCHAR(60)) AS anon_1\n",
      "2020-06-26 23:12:39,882 INFO sqlalchemy.engine.base.Engine ()\n"
     ]
    }
   ],
   "source": [
    "# Create Database Connection\n",
    "# ----------------------------------\n",
    "\n",
    "conn_string = \"sqlite:///static/data/earthquake.sqlite\"\n",
    "engine = create_engine(conn_string, echo=True)\n",
    "conn = engine.connect()\n"
   ]
  },
  {
   "cell_type": "code",
   "execution_count": 13,
   "metadata": {
    "ExecuteTime": {
     "end_time": "2020-06-27T03:12:39.896011Z",
     "start_time": "2020-06-27T03:12:39.886991Z"
    }
   },
   "outputs": [
    {
     "name": "stdout",
     "output_type": "stream",
     "text": [
      "2020-06-26 23:12:39,889 INFO sqlalchemy.engine.base.Engine PRAGMA main.table_info(\"earthquake\")\n",
      "2020-06-26 23:12:39,890 INFO sqlalchemy.engine.base.Engine ()\n"
     ]
    }
   ],
   "source": [
    "# Create a \"Metadata\" Layer that Abstracts the SQL Database\n",
    "# ----------------------------------\n",
    "# Create (if not already in existence) the tables associated with our classes.\n",
    "Base.metadata.create_all(engine)\n",
    "\n",
    "# Use this to clear out the db\n",
    "# ----------------------------------\n",
    "# Base.metadata.drop_all(engine)"
   ]
  },
  {
   "cell_type": "code",
   "execution_count": 14,
   "metadata": {
    "ExecuteTime": {
     "end_time": "2020-06-27T03:12:39.900951Z",
     "start_time": "2020-06-27T03:12:39.896961Z"
    }
   },
   "outputs": [],
   "source": [
    "# Create a Session Object to Connect to DB\n",
    "# ----------------------------------\n",
    "# Session is a temporary binding to our DB\n",
    "session = Session(bind=engine)"
   ]
  },
  {
   "cell_type": "code",
   "execution_count": 15,
   "metadata": {
    "ExecuteTime": {
     "end_time": "2020-06-27T03:12:40.113386Z",
     "start_time": "2020-06-27T03:12:39.901948Z"
    },
    "scrolled": true
   },
   "outputs": [
    {
     "name": "stdout",
     "output_type": "stream",
     "text": [
      "2020-06-26 23:12:39,909 INFO sqlalchemy.engine.base.Engine PRAGMA main.table_info(\"earthquake\")\n",
      "2020-06-26 23:12:39,910 INFO sqlalchemy.engine.base.Engine ()\n",
      "2020-06-26 23:12:39,911 INFO sqlalchemy.engine.base.Engine PRAGMA main.table_info(\"earthquake\")\n",
      "2020-06-26 23:12:39,912 INFO sqlalchemy.engine.base.Engine ()\n",
      "2020-06-26 23:12:39,913 INFO sqlalchemy.engine.base.Engine SELECT name FROM sqlite_master WHERE type='table' ORDER BY name\n",
      "2020-06-26 23:12:39,914 INFO sqlalchemy.engine.base.Engine ()\n",
      "2020-06-26 23:12:39,915 INFO sqlalchemy.engine.base.Engine PRAGMA main.table_info(\"earthquake\")\n",
      "2020-06-26 23:12:39,916 INFO sqlalchemy.engine.base.Engine ()\n",
      "2020-06-26 23:12:39,920 INFO sqlalchemy.engine.base.Engine SELECT sql FROM  (SELECT * FROM sqlite_master UNION ALL   SELECT * FROM sqlite_temp_master) WHERE name = 'earthquake' AND type = 'table'\n",
      "2020-06-26 23:12:39,921 INFO sqlalchemy.engine.base.Engine ()\n",
      "2020-06-26 23:12:39,923 INFO sqlalchemy.engine.base.Engine PRAGMA main.foreign_key_list(\"earthquake\")\n",
      "2020-06-26 23:12:39,924 INFO sqlalchemy.engine.base.Engine ()\n",
      "2020-06-26 23:12:39,926 INFO sqlalchemy.engine.base.Engine PRAGMA temp.foreign_key_list(\"earthquake\")\n",
      "2020-06-26 23:12:39,926 INFO sqlalchemy.engine.base.Engine ()\n",
      "2020-06-26 23:12:39,927 INFO sqlalchemy.engine.base.Engine SELECT sql FROM  (SELECT * FROM sqlite_master UNION ALL   SELECT * FROM sqlite_temp_master) WHERE name = 'earthquake' AND type = 'table'\n",
      "2020-06-26 23:12:39,928 INFO sqlalchemy.engine.base.Engine ()\n",
      "2020-06-26 23:12:39,930 INFO sqlalchemy.engine.base.Engine PRAGMA main.index_list(\"earthquake\")\n",
      "2020-06-26 23:12:39,931 INFO sqlalchemy.engine.base.Engine ()\n",
      "2020-06-26 23:12:39,932 INFO sqlalchemy.engine.base.Engine PRAGMA temp.index_list(\"earthquake\")\n",
      "2020-06-26 23:12:39,933 INFO sqlalchemy.engine.base.Engine ()\n",
      "2020-06-26 23:12:39,934 INFO sqlalchemy.engine.base.Engine PRAGMA main.index_list(\"earthquake\")\n",
      "2020-06-26 23:12:39,934 INFO sqlalchemy.engine.base.Engine ()\n",
      "2020-06-26 23:12:39,936 INFO sqlalchemy.engine.base.Engine PRAGMA temp.index_list(\"earthquake\")\n",
      "2020-06-26 23:12:39,936 INFO sqlalchemy.engine.base.Engine ()\n",
      "2020-06-26 23:12:39,937 INFO sqlalchemy.engine.base.Engine SELECT sql FROM  (SELECT * FROM sqlite_master UNION ALL   SELECT * FROM sqlite_temp_master) WHERE name = 'earthquake' AND type = 'table'\n",
      "2020-06-26 23:12:39,938 INFO sqlalchemy.engine.base.Engine ()\n",
      "2020-06-26 23:12:39,941 INFO sqlalchemy.engine.base.Engine \n",
      "DROP TABLE earthquake\n",
      "2020-06-26 23:12:39,941 INFO sqlalchemy.engine.base.Engine ()\n",
      "2020-06-26 23:12:39,947 INFO sqlalchemy.engine.base.Engine COMMIT\n",
      "2020-06-26 23:12:39,950 INFO sqlalchemy.engine.base.Engine \n",
      "CREATE TABLE earthquake (\n",
      "\tid BIGINT, \n",
      "\ttsunami_fl BIGINT, \n",
      "\tyear BIGINT, \n",
      "\tmagnitude FLOAT, \n",
      "\tintensity FLOAT, \n",
      "\tcountry TEXT, \n",
      "\tstate TEXT, \n",
      "\tlocation TEXT, \n",
      "\tlat TEXT, \n",
      "\tlng TEXT, \n",
      "\tregion_cd BIGINT, \n",
      "\tregion TEXT, \n",
      "\ttotal_deaths_desc TEXT, \n",
      "\ttotal_missing_desc TEXT, \n",
      "\ttotal_injuries_desc TEXT, \n",
      "\ttotal_damage_desc TEXT, \n",
      "\ttotal_houses_destroyed_desc TEXT, \n",
      "\ttotal_houses_damaged_desc TEXT\n",
      ")\n",
      "\n",
      "\n",
      "2020-06-26 23:12:39,951 INFO sqlalchemy.engine.base.Engine ()\n",
      "2020-06-26 23:12:39,957 INFO sqlalchemy.engine.base.Engine COMMIT\n",
      "2020-06-26 23:12:39,963 INFO sqlalchemy.engine.base.Engine BEGIN (implicit)\n",
      "2020-06-26 23:12:40,056 INFO sqlalchemy.engine.base.Engine INSERT INTO earthquake (id, tsunami_fl, year, magnitude, intensity, country, state, location, lat, lng, region_cd, region, total_deaths_desc, total_missing_desc, total_injuries_desc, total_damage_desc, total_houses_destroyed_desc, total_houses_damaged_desc) VALUES (?, ?, ?, ?, ?, ?, ?, ?, ?, ?, ?, ?, ?, ?, ?, ?, ?, ?)\n",
      "2020-06-26 23:12:40,057 INFO sqlalchemy.engine.base.Engine ((1, 1, -2150, 7.3, None, 'JORDAN', None, 'JORDAN:  BAB-A-DARAA,AL-KARAK', '31.1', '35.5', 140, 'Middle East', None, None, None, None, None, None), (3, 0, -2000, 7.1, 10.0, 'TURKMENISTAN', None, 'TURKMENISTAN:  W', '38', '58.2', 40, 'Central Asia and Caucasus', '1--Few (~1 to 50 deaths)', None, None, '1--limited(~$1 million)', '1--Few(~1 to 50 houses)', None), (2, 1, -2000, None, 10.0, 'SYRIA', None, 'SYRIA:  UGARIT', '35.683', '35.8', 130, 'Southern Europe', '3--Many (~101 to 1000 deaths)', None, None, None, None, None), (5877, 1, -1610, None, None, 'GREECE', None, 'GREECE:  THERA ISLAND (SANTORINI)', '36.4', '25.4', 130, 'Southern Europe', '3--Many (~101 to 1000 deaths)', None, None, '3--Severe(~$5 to $24 million)', None, None), (8, 0, -1566, None, 10.0, 'ISRAEL', None, 'ISRAEL:  ARIHA (JERICHO)', '31.5', '35.3', 140, 'Middle East', None, None, None, None, None, None), (11, 0, -1450, None, 10.0, 'ITALY', None, 'ITALY:  LACUS CIMINI', '35.5', '25.5', 130, 'Southern Europe', None, None, None, None, None, None), (9712, 1, -1365, None, None, 'SYRIA', None, 'SYRIAN COASTS', '35.683', '35.8', 140, 'Middle East', None, None, None, '3--Severe(~$5 to $24 million)', None, None), (12, 0, -1250, 6.5, None, 'ISRAEL', None, 'ISRAEL:  ARIHA (JERICHO)', '32', '35.5', 140, 'Middle East', None, None, None, None, None, None)  ... displaying 10 of 6197 total bound parameter sets ...  (10504, 0, 2020, 5.9, None, 'TURKEY', None, 'TURKEY:  BINGOL', '39.421', '40.697', 140, 'Middle East', '1--Few (~1 to 50 deaths)', None, '1--Few (~1 to 50 injured)', '2--Moderate(~$1 to $5 million)', None, '1--Few(~1 to 50 houses)'), (10505, 1, 2020, 7.4, None, 'NEW ZEALAND', None, 'KERMADEC ISLANDS:  S OF, RAOUL', '-33.294', '-177.838', 170, 'Central and South Pacific', None, None, None, None, None, None))\n",
      "2020-06-26 23:12:40,103 INFO sqlalchemy.engine.base.Engine COMMIT\n"
     ]
    }
   ],
   "source": [
    "edited2_earthquake_df.to_sql('earthquake', conn, if_exists='replace', index = False)"
   ]
  },
  {
   "cell_type": "code",
   "execution_count": 16,
   "metadata": {
    "ExecuteTime": {
     "end_time": "2020-06-27T03:12:40.118369Z",
     "start_time": "2020-06-27T03:12:40.114380Z"
    }
   },
   "outputs": [],
   "source": [
    "session.commit()"
   ]
  },
  {
   "cell_type": "code",
   "execution_count": 17,
   "metadata": {
    "ExecuteTime": {
     "end_time": "2020-06-27T03:12:40.123356Z",
     "start_time": "2020-06-27T03:12:40.119367Z"
    }
   },
   "outputs": [],
   "source": [
    "#cur = conn.cursor()\n",
    "#cur.execute(\"select * from earthquake limit 5;\")"
   ]
  },
  {
   "cell_type": "code",
   "execution_count": 18,
   "metadata": {
    "ExecuteTime": {
     "end_time": "2020-06-27T03:12:40.133329Z",
     "start_time": "2020-06-27T03:12:40.125351Z"
    }
   },
   "outputs": [
    {
     "name": "stdout",
     "output_type": "stream",
     "text": [
      "2020-06-26 23:12:40,127 INFO sqlalchemy.engine.base.Engine SELECT * FROM earthquake limit 5;\n",
      "2020-06-26 23:12:40,128 INFO sqlalchemy.engine.base.Engine ()\n",
      "(1, 1, -2150, 7.3, None, 'JORDAN', None, 'JORDAN:  BAB-A-DARAA,AL-KARAK', '31.1', '35.5', 140, 'Middle East', None, None, None, None, None, None)\n",
      "(3, 0, -2000, 7.1, 10.0, 'TURKMENISTAN', None, 'TURKMENISTAN:  W', '38', '58.2', 40, 'Central Asia and Caucasus', '1--Few (~1 to 50 deaths)', None, None, '1--limited(~$1 million)', '1--Few(~1 to 50 houses)', None)\n",
      "(2, 1, -2000, None, 10.0, 'SYRIA', None, 'SYRIA:  UGARIT', '35.683', '35.8', 130, 'Southern Europe', '3--Many (~101 to 1000 deaths)', None, None, None, None, None)\n",
      "(5877, 1, -1610, None, None, 'GREECE', None, 'GREECE:  THERA ISLAND (SANTORINI)', '36.4', '25.4', 130, 'Southern Europe', '3--Many (~101 to 1000 deaths)', None, None, '3--Severe(~$5 to $24 million)', None, None)\n",
      "(8, 0, -1566, None, 10.0, 'ISRAEL', None, 'ISRAEL:  ARIHA (JERICHO)', '31.5', '35.3', 140, 'Middle East', None, None, None, None, None, None)\n"
     ]
    }
   ],
   "source": [
    "with conn as con:\n",
    "    \n",
    "    rs = con.execute(\"\"\"SELECT * FROM earthquake limit 5;\"\"\")\n",
    "    \n",
    "    for row in rs:\n",
    "        print(row)\n",
    "        \n",
    "#con.close()"
   ]
  },
  {
   "cell_type": "code",
   "execution_count": 19,
   "metadata": {
    "ExecuteTime": {
     "end_time": "2020-06-27T03:13:00.174725Z",
     "start_time": "2020-06-27T03:13:00.170737Z"
    }
   },
   "outputs": [],
   "source": [
    "con.close()"
   ]
  },
  {
   "cell_type": "code",
   "execution_count": null,
   "metadata": {},
   "outputs": [],
   "source": []
  }
 ],
 "metadata": {
  "kernelspec": {
   "display_name": "Python 3.7.6 64-bit ('PythonData2020_1': conda)",
   "language": "python",
   "name": "python37664bitpythondata20201conda6baabde948e8485c8acdbdb1f5c8dec5"
  },
  "language_info": {
   "codemirror_mode": {
    "name": "ipython",
    "version": 3
   },
   "file_extension": ".py",
   "mimetype": "text/x-python",
   "name": "python",
   "nbconvert_exporter": "python",
   "pygments_lexer": "ipython3",
   "version": "3.8.3"
  },
  "latex_envs": {
   "LaTeX_envs_menu_present": true,
   "autoclose": false,
   "autocomplete": true,
   "bibliofile": "biblio.bib",
   "cite_by": "apalike",
   "current_citInitial": 1,
   "eqLabelWithNumbers": true,
   "eqNumInitial": 1,
   "hotkeys": {
    "equation": "Ctrl-E",
    "itemize": "Ctrl-I"
   },
   "labels_anchors": false,
   "latex_user_defs": false,
   "report_style_numbering": false,
   "user_envs_cfg": false
  },
  "toc": {
   "base_numbering": 1,
   "nav_menu": {},
   "number_sections": true,
   "sideBar": true,
   "skip_h1_title": false,
   "title_cell": "Table of Contents",
   "title_sidebar": "Contents",
   "toc_cell": false,
   "toc_position": {},
   "toc_section_display": true,
   "toc_window_display": false
  }
 },
 "nbformat": 4,
 "nbformat_minor": 4
}
