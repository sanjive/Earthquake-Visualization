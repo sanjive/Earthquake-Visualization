{
 "cells": [
  {
   "cell_type": "code",
   "execution_count": null,
   "metadata": {
    "ExecuteTime": {
     "end_time": "2020-06-27T14:41:11.099881Z",
     "start_time": "2020-06-27T14:41:10.090540Z"
    }
   },
   "outputs": [],
   "source": [
    "# Dependencies\n",
    "# ----------------------------------\n",
    "\n",
    "import os\n",
    "\n",
    "import numpy as np\n",
    "import pandas as pd\n",
    "\n",
    "# Import the method used for connecting to DBs\n",
    "from sqlalchemy import create_engine\n",
    "\n",
    "# Allow us to declare column types\n",
    "from sqlalchemy import Column, Integer, String, Float \n",
    "\n",
    "# Import the methods needed to abstract classes into tables\n",
    "from sqlalchemy.ext.declarative import declarative_base\n",
    "\n",
    "# Import Session to bind to the DB\n",
    "from sqlalchemy.orm import Session\n",
    "\n",
    "# geojson Point\n",
    "from geojson import GeometryCollection, Point, LineString, FeatureCollection"
   ]
  },
  {
   "cell_type": "code",
   "execution_count": null,
   "metadata": {
    "ExecuteTime": {
     "end_time": "2020-06-27T14:41:11.109854Z",
     "start_time": "2020-06-27T14:41:11.103870Z"
    }
   },
   "outputs": [],
   "source": [
    "## OS command to get the cwd and change the cwd\n",
    "##---------------------------------------------\n",
    "## Get the current wroking directory\n",
    "#os.getcwd()\n",
    "## In the path the backward slash (\\) needs to be escaped with another backslash (\\)\n",
    "#os.chdir(\"C:\\\\Users\\\\sanji\\\\Documents\\\\project\\\\p2-earthquake-visualization\\\\earthquake\")\n",
    "#os.chdir(\"C:\\\\Users\\\\sanji\\\\Documents\\\\project\\\\p2-earthquake-visualization\")\n",
    "## Verify the cwd after the change\n",
    "#os.getcwd()"
   ]
  },
  {
   "cell_type": "code",
   "execution_count": null,
   "metadata": {
    "ExecuteTime": {
     "end_time": "2020-06-27T14:41:11.854802Z",
     "start_time": "2020-06-27T14:41:11.779999Z"
    }
   },
   "outputs": [],
   "source": [
    "# Define the raw data csv file to load, process and later save it to the database\n",
    "#----------------------------------------------\n",
    "earthquake_csv = \"static/data/earthquake.csv\"\n",
    "\n",
    "# Read the csv data file into pandas dataframe\n",
    "#------------------------------------------------\n",
    "earthquake_df = pd.read_csv(earthquake_csv, encoding=\"ISO-8859-1\")"
   ]
  },
  {
   "cell_type": "code",
   "execution_count": null,
   "metadata": {
    "ExecuteTime": {
     "end_time": "2020-06-27T14:41:14.983595Z",
     "start_time": "2020-06-27T14:41:14.943194Z"
    },
    "code_folding": [],
    "scrolled": false
   },
   "outputs": [],
   "source": [
    "# Show just the header\n",
    "#------------------------\n",
    "earthquake_df.head()"
   ]
  },
  {
   "cell_type": "code",
   "execution_count": null,
   "metadata": {
    "ExecuteTime": {
     "end_time": "2020-06-27T14:41:32.963853Z",
     "start_time": "2020-06-27T14:41:32.955875Z"
    },
    "scrolled": true
   },
   "outputs": [],
   "source": [
    "# Get the columns in the dataFrame\n",
    "#---------------------------------------------------------------\n",
    "earthquake_df.columns"
   ]
  },
  {
   "cell_type": "code",
   "execution_count": null,
   "metadata": {
    "ExecuteTime": {
     "end_time": "2020-06-27T14:41:49.758737Z",
     "start_time": "2020-06-27T14:41:49.748769Z"
    }
   },
   "outputs": [],
   "source": [
    "# Specify the columns that will need to be loaded into the table\n",
    "#---------------------------------------------------------------\n",
    "edited_earthquake_df = earthquake_df[['ID','FLAG_TSUNAMI','YEAR','EQ_PRIMARY','INTENSITY','COUNTRY','STATE','LOCATION_NAME','LATITUDE','LONGITUDE','REGION_CODE','REGION','TOTAL_DEATHS_DESCRIPTION','TOTAL_MISSING_DESCRIPTION','TOTAL_INJURIES_DESCRIPTION','TOTAL_DAMAGE_DESCRIPTION','TOTAL_HOUSES_DESTROYED_DESCRIPTION','TOTAL_HOUSES_DAMAGED_DESCRIPTION']]"
   ]
  },
  {
   "cell_type": "code",
   "execution_count": null,
   "metadata": {
    "ExecuteTime": {
     "end_time": "2020-06-27T14:41:54.564992Z",
     "start_time": "2020-06-27T14:41:54.543052Z"
    },
    "scrolled": true
   },
   "outputs": [],
   "source": [
    "# Show just the header\n",
    "#------------------------\n",
    "\n",
    "edited_earthquake_df.head()"
   ]
  },
  {
   "cell_type": "code",
   "execution_count": null,
   "metadata": {
    "ExecuteTime": {
     "end_time": "2020-06-27T14:42:09.458145Z",
     "start_time": "2020-06-27T14:42:09.451161Z"
    },
    "scrolled": true
   },
   "outputs": [],
   "source": [
    "# Get the columns in the dataFrame\n",
    "#---------------------------------------------------------------\n",
    "edited_earthquake_df.columns"
   ]
  },
  {
   "cell_type": "code",
   "execution_count": null,
   "metadata": {
    "ExecuteTime": {
     "end_time": "2020-06-27T14:42:39.730327Z",
     "start_time": "2020-06-27T14:42:39.717351Z"
    }
   },
   "outputs": [],
   "source": [
    "# Rename the DataFrame columns\n",
    "#---------------------------------\n",
    "edited2_earthquake_df = edited_earthquake_df.rename(columns={\n",
    "    'ID':'id',\n",
    "    'FLAG_TSUNAMI': 'tsunami_fl', \n",
    "    'YEAR':'year', \n",
    "    'EQ_PRIMARY':'magnitude',\n",
    "    'INTENSITY':'intensity',\n",
    "    'COUNTRY':'country',\n",
    "    'STATE':'state',\n",
    "    'LOCATION_NAME':'location',\n",
    "    'LATITUDE':'lat',\n",
    "    'LONGITUDE':'lng',\n",
    "    'REGION_CODE':'region_cd',\n",
    "    'REGION':'region',\n",
    "    'TOTAL_DEATHS_DESCRIPTION':'total_deaths_desc',\n",
    "    'TOTAL_MISSING_DESCRIPTION':'total_missing_desc',\n",
    "    'TOTAL_INJURIES_DESCRIPTION':'total_injuries_desc',\n",
    "    'TOTAL_DAMAGE_DESCRIPTION':'total_damage_desc',\n",
    "    'TOTAL_HOUSES_DESTROYED_DESCRIPTION':'total_houses_destroyed_desc',\n",
    "    'TOTAL_HOUSES_DAMAGED_DESCRIPTION':'total_houses_damaged_desc'\n",
    "})"
   ]
  },
  {
   "cell_type": "code",
   "execution_count": null,
   "metadata": {
    "ExecuteTime": {
     "end_time": "2020-06-27T14:42:42.935284Z",
     "start_time": "2020-06-27T14:42:42.903368Z"
    },
    "scrolled": true
   },
   "outputs": [],
   "source": [
    "edited2_earthquake_df.head()"
   ]
  },
  {
   "cell_type": "code",
   "execution_count": null,
   "metadata": {
    "ExecuteTime": {
     "end_time": "2020-06-27T14:43:05.472014Z",
     "start_time": "2020-06-27T14:43:05.447082Z"
    }
   },
   "outputs": [],
   "source": [
    "# Create Class - Earthquake\n",
    "#---------------------------------------------\n",
    "# Set an object to utilize the default declarative base in SQL Alchemy\n",
    "Base = declarative_base()\n",
    "\n",
    "# Creates Class which will serve as the anchor point for the Table\n",
    "class Earthquake(Base):\n",
    "    __tablename__ = 'earthquake'\n",
    "    id = Column(Integer, primary_key=True)\n",
    "    tsunami_fl = Column(Integer, nullable=False)\n",
    "    year = Column(String(10))\n",
    "    magnitude = Column(Integer)\n",
    "    intensity = Column(Float)\n",
    "    country = Column(String(55), nullable=False)\n",
    "    state = Column(String(55))\n",
    "    location = Column(String(55))\n",
    "    lat = Column(Float)\n",
    "    lng = Column(Float)\n",
    "    region_cd = Column(String(55), nullable=False)\n",
    "    region = Column(String(55), nullable=False)\n",
    "    total_deaths_desc = Column(String(255))\n",
    "    total_missing_desc = Column(String(255))\n",
    "    total_injuries_desc = Column(String(255))\n",
    "    total_damage_desc = Column(String(255))\n",
    "    total_houses_destroyed_desc = Column(String(255))\n",
    "    total_houses_damaged_desc = Column(String(255))    "
   ]
  },
  {
   "cell_type": "code",
   "execution_count": null,
   "metadata": {
    "ExecuteTime": {
     "end_time": "2020-06-27T14:44:09.278220Z",
     "start_time": "2020-06-27T14:44:09.263257Z"
    }
   },
   "outputs": [],
   "source": [
    "# Create Database Connection\n",
    "# ----------------------------------\n",
    "\n",
    "conn_string = \"sqlite:///static/data/earthquake.sqlite\"\n",
    "engine = create_engine(conn_string, echo=True)\n",
    "conn = engine.connect()\n"
   ]
  },
  {
   "cell_type": "code",
   "execution_count": null,
   "metadata": {
    "ExecuteTime": {
     "end_time": "2020-06-27T14:44:10.996900Z",
     "start_time": "2020-06-27T14:44:10.985930Z"
    }
   },
   "outputs": [],
   "source": [
    "# Create a \"Metadata\" Layer that Abstracts the SQL Database\n",
    "# ----------------------------------\n",
    "# Create (if not already in existence) the tables associated with our classes.\n",
    "Base.metadata.create_all(engine)\n",
    "\n",
    "# Use this to clear out the db\n",
    "# ----------------------------------\n",
    "# Base.metadata.drop_all(engine)"
   ]
  },
  {
   "cell_type": "code",
   "execution_count": null,
   "metadata": {
    "ExecuteTime": {
     "end_time": "2020-06-27T14:44:12.107999Z",
     "start_time": "2020-06-27T14:44:12.100016Z"
    }
   },
   "outputs": [],
   "source": [
    "# Create a Session Object to Connect to DB\n",
    "# ----------------------------------\n",
    "# Session is a temporary binding to our DB\n",
    "session = Session(bind=engine)"
   ]
  },
  {
   "cell_type": "code",
   "execution_count": null,
   "metadata": {
    "ExecuteTime": {
     "end_time": "2020-06-27T14:44:13.367261Z",
     "start_time": "2020-06-27T14:44:12.918426Z"
    },
    "scrolled": true
   },
   "outputs": [],
   "source": [
    "edited2_earthquake_df.to_sql('earthquake', conn, if_exists='replace', index = False)"
   ]
  },
  {
   "cell_type": "code",
   "execution_count": null,
   "metadata": {
    "ExecuteTime": {
     "end_time": "2020-06-27T14:44:30.218606Z",
     "start_time": "2020-06-27T14:44:30.214617Z"
    }
   },
   "outputs": [],
   "source": [
    "session.commit()"
   ]
  },
  {
   "cell_type": "code",
   "execution_count": null,
   "metadata": {
    "ExecuteTime": {
     "end_time": "2020-06-27T14:44:33.136857Z",
     "start_time": "2020-06-27T14:44:33.132865Z"
    }
   },
   "outputs": [],
   "source": [
    "#cur = conn.cursor()\n",
    "#cur.execute(\"select * from earthquake limit 5;\")"
   ]
  },
  {
   "cell_type": "code",
   "execution_count": null,
   "metadata": {
    "ExecuteTime": {
     "end_time": "2020-06-27T14:45:02.185420Z",
     "start_time": "2020-06-27T14:45:01.568756Z"
    }
   },
   "outputs": [],
   "source": [
    "with conn as con:\n",
    "    \n",
    "    rs = con.execute(\"\"\"SELECT * FROM earthquake limit 5;\"\"\")\n",
    "    \n",
    "    for row in rs:\n",
    "        print(row)\n",
    "        \n",
    "#con.close()"
   ]
  },
  {
   "cell_type": "code",
   "execution_count": null,
   "metadata": {
    "ExecuteTime": {
     "end_time": "2020-06-27T14:45:02.430315Z",
     "start_time": "2020-06-27T14:45:02.423334Z"
    }
   },
   "outputs": [],
   "source": [
    "con.close()"
   ]
  },
  {
   "cell_type": "code",
   "execution_count": null,
   "metadata": {},
   "outputs": [],
   "source": []
  }
 ],
 "metadata": {
  "kernelspec": {
   "display_name": "Python 3",
   "language": "python",
   "name": "python3"
  },
  "language_info": {
   "codemirror_mode": {
    "name": "ipython",
    "version": 3
   },
   "file_extension": ".py",
   "mimetype": "text/x-python",
   "name": "python",
   "nbconvert_exporter": "python",
   "pygments_lexer": "ipython3",
   "version": "3.7.6"
  },
  "latex_envs": {
   "LaTeX_envs_menu_present": true,
   "autoclose": false,
   "autocomplete": true,
   "bibliofile": "biblio.bib",
   "cite_by": "apalike",
   "current_citInitial": 1,
   "eqLabelWithNumbers": true,
   "eqNumInitial": 1,
   "hotkeys": {
    "equation": "Ctrl-E",
    "itemize": "Ctrl-I"
   },
   "labels_anchors": false,
   "latex_user_defs": false,
   "report_style_numbering": false,
   "user_envs_cfg": false
  },
  "toc": {
   "base_numbering": 1,
   "nav_menu": {},
   "number_sections": true,
   "sideBar": true,
   "skip_h1_title": false,
   "title_cell": "Table of Contents",
   "title_sidebar": "Contents",
   "toc_cell": false,
   "toc_position": {},
   "toc_section_display": true,
   "toc_window_display": false
  }
 },
 "nbformat": 4,
 "nbformat_minor": 4
}
