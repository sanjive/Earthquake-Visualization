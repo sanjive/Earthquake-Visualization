{
 "cells": [
  {
   "cell_type": "code",
   "execution_count": 1,
   "metadata": {
    "ExecuteTime": {
     "end_time": "2020-06-27T14:41:11.099881Z",
     "start_time": "2020-06-27T14:41:10.090540Z"
    }
   },
   "outputs": [],
   "source": [
    "# Dependencies\n",
    "# ----------------------------------\n",
    "\n",
    "import os\n",
    "\n",
    "import numpy as np\n",
    "import pandas as pd\n",
    "\n",
    "# Import the method used for connecting to DBs\n",
    "from sqlalchemy import create_engine\n",
    "\n",
    "# Allow us to declare column types\n",
    "from sqlalchemy import Column, Integer, String, Float \n",
    "\n",
    "# Import the methods needed to abstract classes into tables\n",
    "from sqlalchemy.ext.declarative import declarative_base\n",
    "\n",
    "# Import Session to bind to the DB\n",
    "from sqlalchemy.orm import Session\n"
   ]
  },
  {
   "cell_type": "code",
   "execution_count": 2,
   "metadata": {
    "ExecuteTime": {
     "end_time": "2020-06-27T14:41:11.109854Z",
     "start_time": "2020-06-27T14:41:11.103870Z"
    }
   },
   "outputs": [],
   "source": [
    "## OS command to get the cwd and change the cwd\n",
    "##---------------------------------------------\n",
    "## Get the current wroking directory\n",
    "#os.getcwd()\n",
    "## In the path the backward slash (\\) needs to be escaped with another backslash (\\)\n",
    "#os.chdir(\"C:\\\\Users\\\\sanji\\\\Documents\\\\project\\\\p2-earthquake-visualization\\\\earthquake\")\n",
    "#os.chdir(\"C:\\\\Users\\\\sanji\\\\Documents\\\\project\\\\p2-earthquake-visualization\")\n",
    "## Verify the cwd after the change\n",
    "#os.getcwd()"
   ]
  },
  {
   "cell_type": "code",
   "execution_count": 3,
   "metadata": {
    "ExecuteTime": {
     "end_time": "2020-06-27T14:41:11.854802Z",
     "start_time": "2020-06-27T14:41:11.779999Z"
    }
   },
   "outputs": [],
   "source": [
    "# Define the raw data csv file to load, process and later save it to the database\n",
    "#----------------------------------------------\n",
    "earthquake_csv = \"static/data/earthquake.csv\"\n",
    "\n",
    "# Read the csv data file into pandas dataframe\n",
    "#------------------------------------------------\n",
    "earthquake_df = pd.read_csv(earthquake_csv, encoding=\"ISO-8859-1\")"
   ]
  },
  {
   "cell_type": "code",
   "execution_count": 4,
   "metadata": {
    "ExecuteTime": {
     "end_time": "2020-06-27T14:41:14.983595Z",
     "start_time": "2020-06-27T14:41:14.943194Z"
    },
    "code_folding": [],
    "scrolled": false
   },
   "outputs": [
    {
     "data": {
      "text/html": [
       "<div>\n",
       "<style scoped>\n",
       "    .dataframe tbody tr th:only-of-type {\n",
       "        vertical-align: middle;\n",
       "    }\n",
       "\n",
       "    .dataframe tbody tr th {\n",
       "        vertical-align: top;\n",
       "    }\n",
       "\n",
       "    .dataframe thead th {\n",
       "        text-align: right;\n",
       "    }\n",
       "</style>\n",
       "<table border=\"1\" class=\"dataframe\">\n",
       "  <thead>\n",
       "    <tr style=\"text-align: right;\">\n",
       "      <th></th>\n",
       "      <th>ID</th>\n",
       "      <th>FLAG_TSUNAMI</th>\n",
       "      <th>YEAR</th>\n",
       "      <th>MONTH</th>\n",
       "      <th>DAY</th>\n",
       "      <th>FOCAL_DEPTH</th>\n",
       "      <th>EQ_PRIMARY</th>\n",
       "      <th>INTENSITY</th>\n",
       "      <th>COUNTRY</th>\n",
       "      <th>STATE</th>\n",
       "      <th>...</th>\n",
       "      <th>TOTAL_MISSING</th>\n",
       "      <th>TOTAL_MISSING_DESCRIPTION</th>\n",
       "      <th>TOTAL_INJURIES</th>\n",
       "      <th>TOTAL_INJURIES_DESCRIPTION</th>\n",
       "      <th>TOTAL_DAMAGE_MILLIONS_DOLLARS</th>\n",
       "      <th>TOTAL_DAMAGE_DESCRIPTION</th>\n",
       "      <th>TOTAL_HOUSES_DESTROYED</th>\n",
       "      <th>TOTAL_HOUSES_DESTROYED_DESCRIPTION</th>\n",
       "      <th>TOTAL_HOUSES_DAMAGED</th>\n",
       "      <th>TOTAL_HOUSES_DAMAGED_DESCRIPTION</th>\n",
       "    </tr>\n",
       "  </thead>\n",
       "  <tbody>\n",
       "    <tr>\n",
       "      <th>0</th>\n",
       "      <td>1</td>\n",
       "      <td>1</td>\n",
       "      <td>-2150</td>\n",
       "      <td>NaN</td>\n",
       "      <td>NaN</td>\n",
       "      <td>NaN</td>\n",
       "      <td>7.3</td>\n",
       "      <td>NaN</td>\n",
       "      <td>JORDAN</td>\n",
       "      <td>NaN</td>\n",
       "      <td>...</td>\n",
       "      <td>NaN</td>\n",
       "      <td>NaN</td>\n",
       "      <td>NaN</td>\n",
       "      <td>NaN</td>\n",
       "      <td>NaN</td>\n",
       "      <td>NaN</td>\n",
       "      <td>NaN</td>\n",
       "      <td>NaN</td>\n",
       "      <td>NaN</td>\n",
       "      <td>NaN</td>\n",
       "    </tr>\n",
       "    <tr>\n",
       "      <th>1</th>\n",
       "      <td>3</td>\n",
       "      <td>0</td>\n",
       "      <td>-2000</td>\n",
       "      <td>NaN</td>\n",
       "      <td>NaN</td>\n",
       "      <td>18.0</td>\n",
       "      <td>7.1</td>\n",
       "      <td>10.0</td>\n",
       "      <td>TURKMENISTAN</td>\n",
       "      <td>NaN</td>\n",
       "      <td>...</td>\n",
       "      <td>NaN</td>\n",
       "      <td>NaN</td>\n",
       "      <td>NaN</td>\n",
       "      <td>NaN</td>\n",
       "      <td>NaN</td>\n",
       "      <td>1--limited(~$1 million)</td>\n",
       "      <td>NaN</td>\n",
       "      <td>1--Few(~1 to 50 houses)</td>\n",
       "      <td>NaN</td>\n",
       "      <td>NaN</td>\n",
       "    </tr>\n",
       "    <tr>\n",
       "      <th>2</th>\n",
       "      <td>2</td>\n",
       "      <td>1</td>\n",
       "      <td>-2000</td>\n",
       "      <td>NaN</td>\n",
       "      <td>NaN</td>\n",
       "      <td>NaN</td>\n",
       "      <td>NaN</td>\n",
       "      <td>10.0</td>\n",
       "      <td>SYRIA</td>\n",
       "      <td>NaN</td>\n",
       "      <td>...</td>\n",
       "      <td>NaN</td>\n",
       "      <td>NaN</td>\n",
       "      <td>NaN</td>\n",
       "      <td>NaN</td>\n",
       "      <td>NaN</td>\n",
       "      <td>NaN</td>\n",
       "      <td>NaN</td>\n",
       "      <td>NaN</td>\n",
       "      <td>NaN</td>\n",
       "      <td>NaN</td>\n",
       "    </tr>\n",
       "    <tr>\n",
       "      <th>3</th>\n",
       "      <td>5877</td>\n",
       "      <td>1</td>\n",
       "      <td>-1610</td>\n",
       "      <td>NaN</td>\n",
       "      <td>NaN</td>\n",
       "      <td>NaN</td>\n",
       "      <td>NaN</td>\n",
       "      <td>NaN</td>\n",
       "      <td>GREECE</td>\n",
       "      <td>NaN</td>\n",
       "      <td>...</td>\n",
       "      <td>NaN</td>\n",
       "      <td>NaN</td>\n",
       "      <td>NaN</td>\n",
       "      <td>NaN</td>\n",
       "      <td>NaN</td>\n",
       "      <td>3--Severe(~$5 to $24 million)</td>\n",
       "      <td>NaN</td>\n",
       "      <td>NaN</td>\n",
       "      <td>NaN</td>\n",
       "      <td>NaN</td>\n",
       "    </tr>\n",
       "    <tr>\n",
       "      <th>4</th>\n",
       "      <td>8</td>\n",
       "      <td>0</td>\n",
       "      <td>-1566</td>\n",
       "      <td>NaN</td>\n",
       "      <td>NaN</td>\n",
       "      <td>NaN</td>\n",
       "      <td>NaN</td>\n",
       "      <td>10.0</td>\n",
       "      <td>ISRAEL</td>\n",
       "      <td>NaN</td>\n",
       "      <td>...</td>\n",
       "      <td>NaN</td>\n",
       "      <td>NaN</td>\n",
       "      <td>NaN</td>\n",
       "      <td>NaN</td>\n",
       "      <td>NaN</td>\n",
       "      <td>NaN</td>\n",
       "      <td>NaN</td>\n",
       "      <td>NaN</td>\n",
       "      <td>NaN</td>\n",
       "      <td>NaN</td>\n",
       "    </tr>\n",
       "  </tbody>\n",
       "</table>\n",
       "<p>5 rows × 27 columns</p>\n",
       "</div>"
      ],
      "text/plain": [
       "     ID  FLAG_TSUNAMI  YEAR  MONTH  DAY  FOCAL_DEPTH  EQ_PRIMARY  INTENSITY  \\\n",
       "0     1             1 -2150    NaN  NaN          NaN         7.3        NaN   \n",
       "1     3             0 -2000    NaN  NaN         18.0         7.1       10.0   \n",
       "2     2             1 -2000    NaN  NaN          NaN         NaN       10.0   \n",
       "3  5877             1 -1610    NaN  NaN          NaN         NaN        NaN   \n",
       "4     8             0 -1566    NaN  NaN          NaN         NaN       10.0   \n",
       "\n",
       "        COUNTRY STATE  ... TOTAL_MISSING TOTAL_MISSING_DESCRIPTION  \\\n",
       "0        JORDAN   NaN  ...           NaN                       NaN   \n",
       "1  TURKMENISTAN   NaN  ...           NaN                       NaN   \n",
       "2         SYRIA   NaN  ...           NaN                       NaN   \n",
       "3        GREECE   NaN  ...           NaN                       NaN   \n",
       "4        ISRAEL   NaN  ...           NaN                       NaN   \n",
       "\n",
       "  TOTAL_INJURIES  TOTAL_INJURIES_DESCRIPTION TOTAL_DAMAGE_MILLIONS_DOLLARS  \\\n",
       "0            NaN                         NaN                           NaN   \n",
       "1            NaN                         NaN                           NaN   \n",
       "2            NaN                         NaN                           NaN   \n",
       "3            NaN                         NaN                           NaN   \n",
       "4            NaN                         NaN                           NaN   \n",
       "\n",
       "        TOTAL_DAMAGE_DESCRIPTION TOTAL_HOUSES_DESTROYED  \\\n",
       "0                            NaN                    NaN   \n",
       "1        1--limited(~$1 million)                    NaN   \n",
       "2                            NaN                    NaN   \n",
       "3  3--Severe(~$5 to $24 million)                    NaN   \n",
       "4                            NaN                    NaN   \n",
       "\n",
       "   TOTAL_HOUSES_DESTROYED_DESCRIPTION TOTAL_HOUSES_DAMAGED  \\\n",
       "0                                 NaN                  NaN   \n",
       "1             1--Few(~1 to 50 houses)                  NaN   \n",
       "2                                 NaN                  NaN   \n",
       "3                                 NaN                  NaN   \n",
       "4                                 NaN                  NaN   \n",
       "\n",
       "   TOTAL_HOUSES_DAMAGED_DESCRIPTION  \n",
       "0                               NaN  \n",
       "1                               NaN  \n",
       "2                               NaN  \n",
       "3                               NaN  \n",
       "4                               NaN  \n",
       "\n",
       "[5 rows x 27 columns]"
      ]
     },
     "execution_count": 4,
     "metadata": {},
     "output_type": "execute_result"
    }
   ],
   "source": [
    "# Show just the header\n",
    "#------------------------\n",
    "earthquake_df.head()"
   ]
  },
  {
   "cell_type": "code",
   "execution_count": 5,
   "metadata": {
    "ExecuteTime": {
     "end_time": "2020-06-27T14:41:32.963853Z",
     "start_time": "2020-06-27T14:41:32.955875Z"
    },
    "scrolled": true
   },
   "outputs": [
    {
     "data": {
      "text/plain": [
       "Index(['ID', 'FLAG_TSUNAMI', 'YEAR', 'MONTH', 'DAY', 'FOCAL_DEPTH',\n",
       "       'EQ_PRIMARY', 'INTENSITY', 'COUNTRY', 'STATE', 'LOCATION_NAME',\n",
       "       'LATITUDE', 'LONGITUDE', 'REGION_CODE', 'REGION', 'TOTAL_DEATHS',\n",
       "       'TOTAL_DEATHS_DESCRIPTION', 'TOTAL_MISSING',\n",
       "       'TOTAL_MISSING_DESCRIPTION', 'TOTAL_INJURIES',\n",
       "       'TOTAL_INJURIES_DESCRIPTION', 'TOTAL_DAMAGE_MILLIONS_DOLLARS',\n",
       "       'TOTAL_DAMAGE_DESCRIPTION', 'TOTAL_HOUSES_DESTROYED',\n",
       "       'TOTAL_HOUSES_DESTROYED_DESCRIPTION', 'TOTAL_HOUSES_DAMAGED',\n",
       "       'TOTAL_HOUSES_DAMAGED_DESCRIPTION'],\n",
       "      dtype='object')"
      ]
     },
     "execution_count": 5,
     "metadata": {},
     "output_type": "execute_result"
    }
   ],
   "source": [
    "# Get the columns in the dataFrame\n",
    "#---------------------------------------------------------------\n",
    "earthquake_df.columns"
   ]
  },
  {
   "cell_type": "code",
   "execution_count": 6,
   "metadata": {
    "ExecuteTime": {
     "end_time": "2020-06-27T14:41:49.758737Z",
     "start_time": "2020-06-27T14:41:49.748769Z"
    }
   },
   "outputs": [],
   "source": [
    "# Specify the columns that will need to be loaded into the table\n",
    "#---------------------------------------------------------------\n",
    "edited_earthquake_df = earthquake_df[['ID','FLAG_TSUNAMI','YEAR','EQ_PRIMARY','INTENSITY','COUNTRY','STATE','LOCATION_NAME','LATITUDE','LONGITUDE','REGION_CODE','REGION','TOTAL_DEATHS_DESCRIPTION','TOTAL_MISSING_DESCRIPTION','TOTAL_INJURIES_DESCRIPTION','TOTAL_DAMAGE_DESCRIPTION','TOTAL_HOUSES_DESTROYED_DESCRIPTION','TOTAL_HOUSES_DAMAGED_DESCRIPTION']]"
   ]
  },
  {
   "cell_type": "code",
   "execution_count": 7,
   "metadata": {
    "ExecuteTime": {
     "end_time": "2020-06-27T14:41:54.564992Z",
     "start_time": "2020-06-27T14:41:54.543052Z"
    },
    "scrolled": true
   },
   "outputs": [
    {
     "data": {
      "text/html": [
       "<div>\n",
       "<style scoped>\n",
       "    .dataframe tbody tr th:only-of-type {\n",
       "        vertical-align: middle;\n",
       "    }\n",
       "\n",
       "    .dataframe tbody tr th {\n",
       "        vertical-align: top;\n",
       "    }\n",
       "\n",
       "    .dataframe thead th {\n",
       "        text-align: right;\n",
       "    }\n",
       "</style>\n",
       "<table border=\"1\" class=\"dataframe\">\n",
       "  <thead>\n",
       "    <tr style=\"text-align: right;\">\n",
       "      <th></th>\n",
       "      <th>ID</th>\n",
       "      <th>FLAG_TSUNAMI</th>\n",
       "      <th>YEAR</th>\n",
       "      <th>EQ_PRIMARY</th>\n",
       "      <th>INTENSITY</th>\n",
       "      <th>COUNTRY</th>\n",
       "      <th>STATE</th>\n",
       "      <th>LOCATION_NAME</th>\n",
       "      <th>LATITUDE</th>\n",
       "      <th>LONGITUDE</th>\n",
       "      <th>REGION_CODE</th>\n",
       "      <th>REGION</th>\n",
       "      <th>TOTAL_DEATHS_DESCRIPTION</th>\n",
       "      <th>TOTAL_MISSING_DESCRIPTION</th>\n",
       "      <th>TOTAL_INJURIES_DESCRIPTION</th>\n",
       "      <th>TOTAL_DAMAGE_DESCRIPTION</th>\n",
       "      <th>TOTAL_HOUSES_DESTROYED_DESCRIPTION</th>\n",
       "      <th>TOTAL_HOUSES_DAMAGED_DESCRIPTION</th>\n",
       "    </tr>\n",
       "  </thead>\n",
       "  <tbody>\n",
       "    <tr>\n",
       "      <th>0</th>\n",
       "      <td>1</td>\n",
       "      <td>1</td>\n",
       "      <td>-2150</td>\n",
       "      <td>7.3</td>\n",
       "      <td>NaN</td>\n",
       "      <td>JORDAN</td>\n",
       "      <td>NaN</td>\n",
       "      <td>JORDAN:  BAB-A-DARAA,AL-KARAK</td>\n",
       "      <td>31.1</td>\n",
       "      <td>35.5</td>\n",
       "      <td>140</td>\n",
       "      <td>Middle East</td>\n",
       "      <td>NaN</td>\n",
       "      <td>NaN</td>\n",
       "      <td>NaN</td>\n",
       "      <td>NaN</td>\n",
       "      <td>NaN</td>\n",
       "      <td>NaN</td>\n",
       "    </tr>\n",
       "    <tr>\n",
       "      <th>1</th>\n",
       "      <td>3</td>\n",
       "      <td>0</td>\n",
       "      <td>-2000</td>\n",
       "      <td>7.1</td>\n",
       "      <td>10.0</td>\n",
       "      <td>TURKMENISTAN</td>\n",
       "      <td>NaN</td>\n",
       "      <td>TURKMENISTAN:  W</td>\n",
       "      <td>38</td>\n",
       "      <td>58.2</td>\n",
       "      <td>40</td>\n",
       "      <td>Central Asia and Caucasus</td>\n",
       "      <td>1--Few (~1 to 50 deaths)</td>\n",
       "      <td>NaN</td>\n",
       "      <td>NaN</td>\n",
       "      <td>1--limited(~$1 million)</td>\n",
       "      <td>1--Few(~1 to 50 houses)</td>\n",
       "      <td>NaN</td>\n",
       "    </tr>\n",
       "    <tr>\n",
       "      <th>2</th>\n",
       "      <td>2</td>\n",
       "      <td>1</td>\n",
       "      <td>-2000</td>\n",
       "      <td>NaN</td>\n",
       "      <td>10.0</td>\n",
       "      <td>SYRIA</td>\n",
       "      <td>NaN</td>\n",
       "      <td>SYRIA:  UGARIT</td>\n",
       "      <td>35.683</td>\n",
       "      <td>35.8</td>\n",
       "      <td>130</td>\n",
       "      <td>Southern Europe</td>\n",
       "      <td>3--Many (~101 to 1000 deaths)</td>\n",
       "      <td>NaN</td>\n",
       "      <td>NaN</td>\n",
       "      <td>NaN</td>\n",
       "      <td>NaN</td>\n",
       "      <td>NaN</td>\n",
       "    </tr>\n",
       "    <tr>\n",
       "      <th>3</th>\n",
       "      <td>5877</td>\n",
       "      <td>1</td>\n",
       "      <td>-1610</td>\n",
       "      <td>NaN</td>\n",
       "      <td>NaN</td>\n",
       "      <td>GREECE</td>\n",
       "      <td>NaN</td>\n",
       "      <td>GREECE:  THERA ISLAND (SANTORINI)</td>\n",
       "      <td>36.4</td>\n",
       "      <td>25.4</td>\n",
       "      <td>130</td>\n",
       "      <td>Southern Europe</td>\n",
       "      <td>3--Many (~101 to 1000 deaths)</td>\n",
       "      <td>NaN</td>\n",
       "      <td>NaN</td>\n",
       "      <td>3--Severe(~$5 to $24 million)</td>\n",
       "      <td>NaN</td>\n",
       "      <td>NaN</td>\n",
       "    </tr>\n",
       "    <tr>\n",
       "      <th>4</th>\n",
       "      <td>8</td>\n",
       "      <td>0</td>\n",
       "      <td>-1566</td>\n",
       "      <td>NaN</td>\n",
       "      <td>10.0</td>\n",
       "      <td>ISRAEL</td>\n",
       "      <td>NaN</td>\n",
       "      <td>ISRAEL:  ARIHA (JERICHO)</td>\n",
       "      <td>31.5</td>\n",
       "      <td>35.3</td>\n",
       "      <td>140</td>\n",
       "      <td>Middle East</td>\n",
       "      <td>NaN</td>\n",
       "      <td>NaN</td>\n",
       "      <td>NaN</td>\n",
       "      <td>NaN</td>\n",
       "      <td>NaN</td>\n",
       "      <td>NaN</td>\n",
       "    </tr>\n",
       "  </tbody>\n",
       "</table>\n",
       "</div>"
      ],
      "text/plain": [
       "     ID  FLAG_TSUNAMI  YEAR  EQ_PRIMARY  INTENSITY       COUNTRY STATE  \\\n",
       "0     1             1 -2150         7.3        NaN        JORDAN   NaN   \n",
       "1     3             0 -2000         7.1       10.0  TURKMENISTAN   NaN   \n",
       "2     2             1 -2000         NaN       10.0         SYRIA   NaN   \n",
       "3  5877             1 -1610         NaN        NaN        GREECE   NaN   \n",
       "4     8             0 -1566         NaN       10.0        ISRAEL   NaN   \n",
       "\n",
       "                       LOCATION_NAME LATITUDE LONGITUDE  REGION_CODE  \\\n",
       "0      JORDAN:  BAB-A-DARAA,AL-KARAK     31.1      35.5          140   \n",
       "1                   TURKMENISTAN:  W       38      58.2           40   \n",
       "2                     SYRIA:  UGARIT   35.683      35.8          130   \n",
       "3  GREECE:  THERA ISLAND (SANTORINI)     36.4      25.4          130   \n",
       "4           ISRAEL:  ARIHA (JERICHO)     31.5      35.3          140   \n",
       "\n",
       "                      REGION       TOTAL_DEATHS_DESCRIPTION  \\\n",
       "0                Middle East                            NaN   \n",
       "1  Central Asia and Caucasus       1--Few (~1 to 50 deaths)   \n",
       "2            Southern Europe  3--Many (~101 to 1000 deaths)   \n",
       "3            Southern Europe  3--Many (~101 to 1000 deaths)   \n",
       "4                Middle East                            NaN   \n",
       "\n",
       "  TOTAL_MISSING_DESCRIPTION TOTAL_INJURIES_DESCRIPTION  \\\n",
       "0                       NaN                        NaN   \n",
       "1                       NaN                        NaN   \n",
       "2                       NaN                        NaN   \n",
       "3                       NaN                        NaN   \n",
       "4                       NaN                        NaN   \n",
       "\n",
       "        TOTAL_DAMAGE_DESCRIPTION TOTAL_HOUSES_DESTROYED_DESCRIPTION  \\\n",
       "0                            NaN                                NaN   \n",
       "1        1--limited(~$1 million)            1--Few(~1 to 50 houses)   \n",
       "2                            NaN                                NaN   \n",
       "3  3--Severe(~$5 to $24 million)                                NaN   \n",
       "4                            NaN                                NaN   \n",
       "\n",
       "  TOTAL_HOUSES_DAMAGED_DESCRIPTION  \n",
       "0                              NaN  \n",
       "1                              NaN  \n",
       "2                              NaN  \n",
       "3                              NaN  \n",
       "4                              NaN  "
      ]
     },
     "execution_count": 7,
     "metadata": {},
     "output_type": "execute_result"
    }
   ],
   "source": [
    "# Show just the header\n",
    "#------------------------\n",
    "\n",
    "edited_earthquake_df.head()"
   ]
  },
  {
   "cell_type": "code",
   "execution_count": 8,
   "metadata": {
    "ExecuteTime": {
     "end_time": "2020-06-27T14:42:09.458145Z",
     "start_time": "2020-06-27T14:42:09.451161Z"
    },
    "scrolled": true
   },
   "outputs": [
    {
     "data": {
      "text/plain": [
       "Index(['ID', 'FLAG_TSUNAMI', 'YEAR', 'EQ_PRIMARY', 'INTENSITY', 'COUNTRY',\n",
       "       'STATE', 'LOCATION_NAME', 'LATITUDE', 'LONGITUDE', 'REGION_CODE',\n",
       "       'REGION', 'TOTAL_DEATHS_DESCRIPTION', 'TOTAL_MISSING_DESCRIPTION',\n",
       "       'TOTAL_INJURIES_DESCRIPTION', 'TOTAL_DAMAGE_DESCRIPTION',\n",
       "       'TOTAL_HOUSES_DESTROYED_DESCRIPTION',\n",
       "       'TOTAL_HOUSES_DAMAGED_DESCRIPTION'],\n",
       "      dtype='object')"
      ]
     },
     "execution_count": 8,
     "metadata": {},
     "output_type": "execute_result"
    }
   ],
   "source": [
    "# Get the columns in the dataFrame\n",
    "#---------------------------------------------------------------\n",
    "edited_earthquake_df.columns"
   ]
  },
  {
   "cell_type": "code",
   "execution_count": 9,
   "metadata": {
    "ExecuteTime": {
     "end_time": "2020-06-27T14:42:39.730327Z",
     "start_time": "2020-06-27T14:42:39.717351Z"
    }
   },
   "outputs": [],
   "source": [
    "# Rename the DataFrame columns\n",
    "#---------------------------------\n",
    "edited2_earthquake_df = edited_earthquake_df.rename(columns={\n",
    "    'ID':'id',\n",
    "    'FLAG_TSUNAMI': 'tsunami_fl', \n",
    "    'YEAR':'year', \n",
    "    'EQ_PRIMARY':'magnitude',\n",
    "    'INTENSITY':'intensity',\n",
    "    'COUNTRY':'country',\n",
    "    'STATE':'state',\n",
    "    'LOCATION_NAME':'location',\n",
    "    'LATITUDE':'lat',\n",
    "    'LONGITUDE':'lng',\n",
    "    'REGION_CODE':'region_cd',\n",
    "    'REGION':'region',\n",
    "    'TOTAL_DEATHS_DESCRIPTION':'total_deaths_desc',\n",
    "    'TOTAL_MISSING_DESCRIPTION':'total_missing_desc',\n",
    "    'TOTAL_INJURIES_DESCRIPTION':'total_injuries_desc',\n",
    "    'TOTAL_DAMAGE_DESCRIPTION':'total_damage_desc',\n",
    "    'TOTAL_HOUSES_DESTROYED_DESCRIPTION':'total_houses_destroyed_desc',\n",
    "    'TOTAL_HOUSES_DAMAGED_DESCRIPTION':'total_houses_damaged_desc'\n",
    "})"
   ]
  },
  {
   "cell_type": "code",
   "execution_count": 10,
   "metadata": {
    "ExecuteTime": {
     "end_time": "2020-06-27T14:42:42.935284Z",
     "start_time": "2020-06-27T14:42:42.903368Z"
    },
    "scrolled": true
   },
   "outputs": [
    {
     "data": {
      "text/html": [
       "<div>\n",
       "<style scoped>\n",
       "    .dataframe tbody tr th:only-of-type {\n",
       "        vertical-align: middle;\n",
       "    }\n",
       "\n",
       "    .dataframe tbody tr th {\n",
       "        vertical-align: top;\n",
       "    }\n",
       "\n",
       "    .dataframe thead th {\n",
       "        text-align: right;\n",
       "    }\n",
       "</style>\n",
       "<table border=\"1\" class=\"dataframe\">\n",
       "  <thead>\n",
       "    <tr style=\"text-align: right;\">\n",
       "      <th></th>\n",
       "      <th>id</th>\n",
       "      <th>tsunami_fl</th>\n",
       "      <th>year</th>\n",
       "      <th>magnitude</th>\n",
       "      <th>intensity</th>\n",
       "      <th>country</th>\n",
       "      <th>state</th>\n",
       "      <th>location</th>\n",
       "      <th>lat</th>\n",
       "      <th>lng</th>\n",
       "      <th>region_cd</th>\n",
       "      <th>region</th>\n",
       "      <th>total_deaths_desc</th>\n",
       "      <th>total_missing_desc</th>\n",
       "      <th>total_injuries_desc</th>\n",
       "      <th>total_damage_desc</th>\n",
       "      <th>total_houses_destroyed_desc</th>\n",
       "      <th>total_houses_damaged_desc</th>\n",
       "    </tr>\n",
       "  </thead>\n",
       "  <tbody>\n",
       "    <tr>\n",
       "      <th>0</th>\n",
       "      <td>1</td>\n",
       "      <td>1</td>\n",
       "      <td>-2150</td>\n",
       "      <td>7.3</td>\n",
       "      <td>NaN</td>\n",
       "      <td>JORDAN</td>\n",
       "      <td>NaN</td>\n",
       "      <td>JORDAN:  BAB-A-DARAA,AL-KARAK</td>\n",
       "      <td>31.1</td>\n",
       "      <td>35.5</td>\n",
       "      <td>140</td>\n",
       "      <td>Middle East</td>\n",
       "      <td>NaN</td>\n",
       "      <td>NaN</td>\n",
       "      <td>NaN</td>\n",
       "      <td>NaN</td>\n",
       "      <td>NaN</td>\n",
       "      <td>NaN</td>\n",
       "    </tr>\n",
       "    <tr>\n",
       "      <th>1</th>\n",
       "      <td>3</td>\n",
       "      <td>0</td>\n",
       "      <td>-2000</td>\n",
       "      <td>7.1</td>\n",
       "      <td>10.0</td>\n",
       "      <td>TURKMENISTAN</td>\n",
       "      <td>NaN</td>\n",
       "      <td>TURKMENISTAN:  W</td>\n",
       "      <td>38</td>\n",
       "      <td>58.2</td>\n",
       "      <td>40</td>\n",
       "      <td>Central Asia and Caucasus</td>\n",
       "      <td>1--Few (~1 to 50 deaths)</td>\n",
       "      <td>NaN</td>\n",
       "      <td>NaN</td>\n",
       "      <td>1--limited(~$1 million)</td>\n",
       "      <td>1--Few(~1 to 50 houses)</td>\n",
       "      <td>NaN</td>\n",
       "    </tr>\n",
       "    <tr>\n",
       "      <th>2</th>\n",
       "      <td>2</td>\n",
       "      <td>1</td>\n",
       "      <td>-2000</td>\n",
       "      <td>NaN</td>\n",
       "      <td>10.0</td>\n",
       "      <td>SYRIA</td>\n",
       "      <td>NaN</td>\n",
       "      <td>SYRIA:  UGARIT</td>\n",
       "      <td>35.683</td>\n",
       "      <td>35.8</td>\n",
       "      <td>130</td>\n",
       "      <td>Southern Europe</td>\n",
       "      <td>3--Many (~101 to 1000 deaths)</td>\n",
       "      <td>NaN</td>\n",
       "      <td>NaN</td>\n",
       "      <td>NaN</td>\n",
       "      <td>NaN</td>\n",
       "      <td>NaN</td>\n",
       "    </tr>\n",
       "    <tr>\n",
       "      <th>3</th>\n",
       "      <td>5877</td>\n",
       "      <td>1</td>\n",
       "      <td>-1610</td>\n",
       "      <td>NaN</td>\n",
       "      <td>NaN</td>\n",
       "      <td>GREECE</td>\n",
       "      <td>NaN</td>\n",
       "      <td>GREECE:  THERA ISLAND (SANTORINI)</td>\n",
       "      <td>36.4</td>\n",
       "      <td>25.4</td>\n",
       "      <td>130</td>\n",
       "      <td>Southern Europe</td>\n",
       "      <td>3--Many (~101 to 1000 deaths)</td>\n",
       "      <td>NaN</td>\n",
       "      <td>NaN</td>\n",
       "      <td>3--Severe(~$5 to $24 million)</td>\n",
       "      <td>NaN</td>\n",
       "      <td>NaN</td>\n",
       "    </tr>\n",
       "    <tr>\n",
       "      <th>4</th>\n",
       "      <td>8</td>\n",
       "      <td>0</td>\n",
       "      <td>-1566</td>\n",
       "      <td>NaN</td>\n",
       "      <td>10.0</td>\n",
       "      <td>ISRAEL</td>\n",
       "      <td>NaN</td>\n",
       "      <td>ISRAEL:  ARIHA (JERICHO)</td>\n",
       "      <td>31.5</td>\n",
       "      <td>35.3</td>\n",
       "      <td>140</td>\n",
       "      <td>Middle East</td>\n",
       "      <td>NaN</td>\n",
       "      <td>NaN</td>\n",
       "      <td>NaN</td>\n",
       "      <td>NaN</td>\n",
       "      <td>NaN</td>\n",
       "      <td>NaN</td>\n",
       "    </tr>\n",
       "  </tbody>\n",
       "</table>\n",
       "</div>"
      ],
      "text/plain": [
       "     id  tsunami_fl  year  magnitude  intensity       country state  \\\n",
       "0     1           1 -2150        7.3        NaN        JORDAN   NaN   \n",
       "1     3           0 -2000        7.1       10.0  TURKMENISTAN   NaN   \n",
       "2     2           1 -2000        NaN       10.0         SYRIA   NaN   \n",
       "3  5877           1 -1610        NaN        NaN        GREECE   NaN   \n",
       "4     8           0 -1566        NaN       10.0        ISRAEL   NaN   \n",
       "\n",
       "                            location     lat   lng  region_cd  \\\n",
       "0      JORDAN:  BAB-A-DARAA,AL-KARAK    31.1  35.5        140   \n",
       "1                   TURKMENISTAN:  W      38  58.2         40   \n",
       "2                     SYRIA:  UGARIT  35.683  35.8        130   \n",
       "3  GREECE:  THERA ISLAND (SANTORINI)    36.4  25.4        130   \n",
       "4           ISRAEL:  ARIHA (JERICHO)    31.5  35.3        140   \n",
       "\n",
       "                      region              total_deaths_desc  \\\n",
       "0                Middle East                            NaN   \n",
       "1  Central Asia and Caucasus       1--Few (~1 to 50 deaths)   \n",
       "2            Southern Europe  3--Many (~101 to 1000 deaths)   \n",
       "3            Southern Europe  3--Many (~101 to 1000 deaths)   \n",
       "4                Middle East                            NaN   \n",
       "\n",
       "  total_missing_desc total_injuries_desc              total_damage_desc  \\\n",
       "0                NaN                 NaN                            NaN   \n",
       "1                NaN                 NaN        1--limited(~$1 million)   \n",
       "2                NaN                 NaN                            NaN   \n",
       "3                NaN                 NaN  3--Severe(~$5 to $24 million)   \n",
       "4                NaN                 NaN                            NaN   \n",
       "\n",
       "  total_houses_destroyed_desc total_houses_damaged_desc  \n",
       "0                         NaN                       NaN  \n",
       "1     1--Few(~1 to 50 houses)                       NaN  \n",
       "2                         NaN                       NaN  \n",
       "3                         NaN                       NaN  \n",
       "4                         NaN                       NaN  "
      ]
     },
     "execution_count": 10,
     "metadata": {},
     "output_type": "execute_result"
    }
   ],
   "source": [
    "edited2_earthquake_df.head()"
   ]
  },
  {
   "cell_type": "code",
   "execution_count": 11,
   "metadata": {
    "ExecuteTime": {
     "end_time": "2020-06-27T14:43:05.472014Z",
     "start_time": "2020-06-27T14:43:05.447082Z"
    }
   },
   "outputs": [],
   "source": [
    "# Create Class - Earthquake\n",
    "#---------------------------------------------\n",
    "# Set an object to utilize the default declarative base in SQL Alchemy\n",
    "Base = declarative_base()\n",
    "\n",
    "# Creates Class which will serve as the anchor point for the Table\n",
    "class Earthquake(Base):\n",
    "    __tablename__ = 'earthquake'\n",
    "    id = Column(Integer, primary_key=True)\n",
    "    tsunami_fl = Column(Integer, nullable=False)\n",
    "    year = Column(String(10))\n",
    "    magnitude = Column(Integer)\n",
    "    intensity = Column(Float)\n",
    "    country = Column(String(55), nullable=False)\n",
    "    state = Column(String(55))\n",
    "    location = Column(String(55))\n",
    "    lat = Column(Float)\n",
    "    lng = Column(Float)\n",
    "    region_cd = Column(String(55), nullable=False)\n",
    "    region = Column(String(55), nullable=False)\n",
    "    total_deaths_desc = Column(String(255))\n",
    "    total_missing_desc = Column(String(255))\n",
    "    total_injuries_desc = Column(String(255))\n",
    "    total_damage_desc = Column(String(255))\n",
    "    total_houses_destroyed_desc = Column(String(255))\n",
    "    total_houses_damaged_desc = Column(String(255))    "
   ]
  },
  {
   "cell_type": "code",
   "execution_count": 17,
   "metadata": {
    "ExecuteTime": {
     "end_time": "2020-06-27T14:44:09.278220Z",
     "start_time": "2020-06-27T14:44:09.263257Z"
    }
   },
   "outputs": [
    {
     "name": "stdout",
     "output_type": "stream",
     "text": [
      "2020-06-27 10:44:09,268 INFO sqlalchemy.engine.base.Engine SELECT CAST('test plain returns' AS VARCHAR(60)) AS anon_1\n",
      "2020-06-27 10:44:09,270 INFO sqlalchemy.engine.base.Engine ()\n",
      "2020-06-27 10:44:09,272 INFO sqlalchemy.engine.base.Engine SELECT CAST('test unicode returns' AS VARCHAR(60)) AS anon_1\n",
      "2020-06-27 10:44:09,274 INFO sqlalchemy.engine.base.Engine ()\n"
     ]
    }
   ],
   "source": [
    "# Create Database Connection\n",
    "# ----------------------------------\n",
    "\n",
    "conn_string = \"sqlite:///static/data/earthquake.sqlite\"\n",
    "engine = create_engine(conn_string, echo=True)\n",
    "conn = engine.connect()\n"
   ]
  },
  {
   "cell_type": "code",
   "execution_count": 18,
   "metadata": {
    "ExecuteTime": {
     "end_time": "2020-06-27T14:44:10.996900Z",
     "start_time": "2020-06-27T14:44:10.985930Z"
    }
   },
   "outputs": [
    {
     "name": "stdout",
     "output_type": "stream",
     "text": [
      "2020-06-27 10:44:10,990 INFO sqlalchemy.engine.base.Engine PRAGMA main.table_info(\"earthquake\")\n",
      "2020-06-27 10:44:10,991 INFO sqlalchemy.engine.base.Engine ()\n"
     ]
    }
   ],
   "source": [
    "# Create a \"Metadata\" Layer that Abstracts the SQL Database\n",
    "# ----------------------------------\n",
    "# Create (if not already in existence) the tables associated with our classes.\n",
    "Base.metadata.create_all(engine)\n",
    "\n",
    "# Use this to clear out the db\n",
    "# ----------------------------------\n",
    "# Base.metadata.drop_all(engine)"
   ]
  },
  {
   "cell_type": "code",
   "execution_count": 19,
   "metadata": {
    "ExecuteTime": {
     "end_time": "2020-06-27T14:44:12.107999Z",
     "start_time": "2020-06-27T14:44:12.100016Z"
    }
   },
   "outputs": [],
   "source": [
    "# Create a Session Object to Connect to DB\n",
    "# ----------------------------------\n",
    "# Session is a temporary binding to our DB\n",
    "session = Session(bind=engine)"
   ]
  },
  {
   "cell_type": "code",
   "execution_count": 20,
   "metadata": {
    "ExecuteTime": {
     "end_time": "2020-06-27T14:44:13.367261Z",
     "start_time": "2020-06-27T14:44:12.918426Z"
    },
    "scrolled": true
   },
   "outputs": [
    {
     "name": "stdout",
     "output_type": "stream",
     "text": [
      "2020-06-27 10:44:12,927 INFO sqlalchemy.engine.base.Engine PRAGMA main.table_info(\"earthquake\")\n",
      "2020-06-27 10:44:12,928 INFO sqlalchemy.engine.base.Engine ()\n",
      "2020-06-27 10:44:12,930 INFO sqlalchemy.engine.base.Engine PRAGMA main.table_info(\"earthquake\")\n",
      "2020-06-27 10:44:12,931 INFO sqlalchemy.engine.base.Engine ()\n",
      "2020-06-27 10:44:12,933 INFO sqlalchemy.engine.base.Engine SELECT name FROM sqlite_master WHERE type='table' ORDER BY name\n",
      "2020-06-27 10:44:12,935 INFO sqlalchemy.engine.base.Engine ()\n",
      "2020-06-27 10:44:12,937 INFO sqlalchemy.engine.base.Engine PRAGMA main.table_info(\"earthquake\")\n",
      "2020-06-27 10:44:12,939 INFO sqlalchemy.engine.base.Engine ()\n",
      "2020-06-27 10:44:12,943 INFO sqlalchemy.engine.base.Engine SELECT sql FROM  (SELECT * FROM sqlite_master UNION ALL   SELECT * FROM sqlite_temp_master) WHERE name = 'earthquake' AND type = 'table'\n",
      "2020-06-27 10:44:12,944 INFO sqlalchemy.engine.base.Engine ()\n",
      "2020-06-27 10:44:12,946 INFO sqlalchemy.engine.base.Engine PRAGMA main.foreign_key_list(\"earthquake\")\n",
      "2020-06-27 10:44:12,947 INFO sqlalchemy.engine.base.Engine ()\n",
      "2020-06-27 10:44:12,948 INFO sqlalchemy.engine.base.Engine PRAGMA temp.foreign_key_list(\"earthquake\")\n",
      "2020-06-27 10:44:12,950 INFO sqlalchemy.engine.base.Engine ()\n",
      "2020-06-27 10:44:12,951 INFO sqlalchemy.engine.base.Engine SELECT sql FROM  (SELECT * FROM sqlite_master UNION ALL   SELECT * FROM sqlite_temp_master) WHERE name = 'earthquake' AND type = 'table'\n",
      "2020-06-27 10:44:12,952 INFO sqlalchemy.engine.base.Engine ()\n",
      "2020-06-27 10:44:12,958 INFO sqlalchemy.engine.base.Engine PRAGMA main.index_list(\"earthquake\")\n",
      "2020-06-27 10:44:12,959 INFO sqlalchemy.engine.base.Engine ()\n",
      "2020-06-27 10:44:12,961 INFO sqlalchemy.engine.base.Engine PRAGMA temp.index_list(\"earthquake\")\n",
      "2020-06-27 10:44:12,962 INFO sqlalchemy.engine.base.Engine ()\n",
      "2020-06-27 10:44:12,963 INFO sqlalchemy.engine.base.Engine PRAGMA main.index_list(\"earthquake\")\n",
      "2020-06-27 10:44:12,964 INFO sqlalchemy.engine.base.Engine ()\n",
      "2020-06-27 10:44:12,965 INFO sqlalchemy.engine.base.Engine PRAGMA temp.index_list(\"earthquake\")\n",
      "2020-06-27 10:44:12,966 INFO sqlalchemy.engine.base.Engine ()\n",
      "2020-06-27 10:44:12,967 INFO sqlalchemy.engine.base.Engine SELECT sql FROM  (SELECT * FROM sqlite_master UNION ALL   SELECT * FROM sqlite_temp_master) WHERE name = 'earthquake' AND type = 'table'\n",
      "2020-06-27 10:44:12,969 INFO sqlalchemy.engine.base.Engine ()\n",
      "2020-06-27 10:44:12,973 INFO sqlalchemy.engine.base.Engine \n",
      "DROP TABLE earthquake\n",
      "2020-06-27 10:44:12,974 INFO sqlalchemy.engine.base.Engine ()\n",
      "2020-06-27 10:44:12,982 INFO sqlalchemy.engine.base.Engine COMMIT\n",
      "2020-06-27 10:44:12,987 INFO sqlalchemy.engine.base.Engine \n",
      "CREATE TABLE earthquake (\n",
      "\tid BIGINT, \n",
      "\ttsunami_fl BIGINT, \n",
      "\tyear BIGINT, \n",
      "\tmagnitude FLOAT, \n",
      "\tintensity FLOAT, \n",
      "\tcountry TEXT, \n",
      "\tstate TEXT, \n",
      "\tlocation TEXT, \n",
      "\tlat TEXT, \n",
      "\tlng TEXT, \n",
      "\tregion_cd BIGINT, \n",
      "\tregion TEXT, \n",
      "\ttotal_deaths_desc TEXT, \n",
      "\ttotal_missing_desc TEXT, \n",
      "\ttotal_injuries_desc TEXT, \n",
      "\ttotal_damage_desc TEXT, \n",
      "\ttotal_houses_destroyed_desc TEXT, \n",
      "\ttotal_houses_damaged_desc TEXT\n",
      ")\n",
      "\n",
      "\n",
      "2020-06-27 10:44:12,989 INFO sqlalchemy.engine.base.Engine ()\n",
      "2020-06-27 10:44:12,996 INFO sqlalchemy.engine.base.Engine COMMIT\n",
      "2020-06-27 10:44:13,006 INFO sqlalchemy.engine.base.Engine BEGIN (implicit)\n",
      "2020-06-27 10:44:13,218 INFO sqlalchemy.engine.base.Engine INSERT INTO earthquake (id, tsunami_fl, year, magnitude, intensity, country, state, location, lat, lng, region_cd, region, total_deaths_desc, total_missing_desc, total_injuries_desc, total_damage_desc, total_houses_destroyed_desc, total_houses_damaged_desc) VALUES (?, ?, ?, ?, ?, ?, ?, ?, ?, ?, ?, ?, ?, ?, ?, ?, ?, ?)\n",
      "2020-06-27 10:44:13,222 INFO sqlalchemy.engine.base.Engine ((1, 1, -2150, 7.3, None, 'JORDAN', None, 'JORDAN:  BAB-A-DARAA,AL-KARAK', '31.1', '35.5', 140, 'Middle East', None, None, None, None, None, None), (3, 0, -2000, 7.1, 10.0, 'TURKMENISTAN', None, 'TURKMENISTAN:  W', '38', '58.2', 40, 'Central Asia and Caucasus', '1--Few (~1 to 50 deaths)', None, None, '1--limited(~$1 million)', '1--Few(~1 to 50 houses)', None), (2, 1, -2000, None, 10.0, 'SYRIA', None, 'SYRIA:  UGARIT', '35.683', '35.8', 130, 'Southern Europe', '3--Many (~101 to 1000 deaths)', None, None, None, None, None), (5877, 1, -1610, None, None, 'GREECE', None, 'GREECE:  THERA ISLAND (SANTORINI)', '36.4', '25.4', 130, 'Southern Europe', '3--Many (~101 to 1000 deaths)', None, None, '3--Severe(~$5 to $24 million)', None, None), (8, 0, -1566, None, 10.0, 'ISRAEL', None, 'ISRAEL:  ARIHA (JERICHO)', '31.5', '35.3', 140, 'Middle East', None, None, None, None, None, None), (11, 0, -1450, None, 10.0, 'ITALY', None, 'ITALY:  LACUS CIMINI', '35.5', '25.5', 130, 'Southern Europe', None, None, None, None, None, None), (9712, 1, -1365, None, None, 'SYRIA', None, 'SYRIAN COASTS', '35.683', '35.8', 140, 'Middle East', None, None, None, '3--Severe(~$5 to $24 million)', None, None), (12, 0, -1250, 6.5, None, 'ISRAEL', None, 'ISRAEL:  ARIHA (JERICHO)', '32', '35.5', 140, 'Middle East', None, None, None, None, None, None)  ... displaying 10 of 6197 total bound parameter sets ...  (10504, 0, 2020, 5.9, None, 'TURKEY', None, 'TURKEY:  BINGOL', '39.421', '40.697', 140, 'Middle East', '1--Few (~1 to 50 deaths)', None, '1--Few (~1 to 50 injured)', '2--Moderate(~$1 to $5 million)', None, '1--Few(~1 to 50 houses)'), (10505, 1, 2020, 7.4, None, 'NEW ZEALAND', None, 'KERMADEC ISLANDS:  S OF, RAOUL', '-33.294', '-177.838', 170, 'Central and South Pacific', None, None, None, None, None, None))\n",
      "2020-06-27 10:44:13,345 INFO sqlalchemy.engine.base.Engine COMMIT\n"
     ]
    }
   ],
   "source": [
    "edited2_earthquake_df.to_sql('earthquake', conn, if_exists='replace', index = False)"
   ]
  },
  {
   "cell_type": "code",
   "execution_count": 21,
   "metadata": {
    "ExecuteTime": {
     "end_time": "2020-06-27T14:44:30.218606Z",
     "start_time": "2020-06-27T14:44:30.214617Z"
    }
   },
   "outputs": [],
   "source": [
    "session.commit()"
   ]
  },
  {
   "cell_type": "code",
   "execution_count": 22,
   "metadata": {
    "ExecuteTime": {
     "end_time": "2020-06-27T14:44:33.136857Z",
     "start_time": "2020-06-27T14:44:33.132865Z"
    }
   },
   "outputs": [],
   "source": [
    "#cur = conn.cursor()\n",
    "#cur.execute(\"select * from earthquake limit 5;\")"
   ]
  },
  {
   "cell_type": "code",
   "execution_count": 24,
   "metadata": {
    "ExecuteTime": {
     "end_time": "2020-06-27T14:45:02.185420Z",
     "start_time": "2020-06-27T14:45:01.568756Z"
    }
   },
   "outputs": [
    {
     "ename": "StatementError",
     "evalue": "(sqlalchemy.exc.ResourceClosedError) This Connection is closed\n[SQL: SELECT * FROM earthquake limit 5;]",
     "output_type": "error",
     "traceback": [
      "\u001b[1;31m---------------------------------------------------------------------------\u001b[0m",
      "\u001b[1;31mResourceClosedError\u001b[0m                       Traceback (most recent call last)",
      "\u001b[1;32m~\\.conda\\envs\\PythonData2020_1\\lib\\site-packages\\sqlalchemy\\engine\\base.py\u001b[0m in \u001b[0;36m_execute_context\u001b[1;34m(self, dialect, constructor, statement, parameters, *args)\u001b[0m\n\u001b[0;32m   1172\u001b[0m             \u001b[1;32mif\u001b[0m \u001b[0mconn\u001b[0m \u001b[1;32mis\u001b[0m \u001b[1;32mNone\u001b[0m\u001b[1;33m:\u001b[0m\u001b[1;33m\u001b[0m\u001b[1;33m\u001b[0m\u001b[0m\n\u001b[1;32m-> 1173\u001b[1;33m                 \u001b[0mconn\u001b[0m \u001b[1;33m=\u001b[0m \u001b[0mself\u001b[0m\u001b[1;33m.\u001b[0m\u001b[0m_revalidate_connection\u001b[0m\u001b[1;33m(\u001b[0m\u001b[1;33m)\u001b[0m\u001b[1;33m\u001b[0m\u001b[1;33m\u001b[0m\u001b[0m\n\u001b[0m\u001b[0;32m   1174\u001b[0m \u001b[1;33m\u001b[0m\u001b[0m\n",
      "\u001b[1;32m~\\.conda\\envs\\PythonData2020_1\\lib\\site-packages\\sqlalchemy\\engine\\base.py\u001b[0m in \u001b[0;36m_revalidate_connection\u001b[1;34m(self)\u001b[0m\n\u001b[0;32m    462\u001b[0m             \u001b[1;32mreturn\u001b[0m \u001b[0mself\u001b[0m\u001b[1;33m.\u001b[0m\u001b[0m__connection\u001b[0m\u001b[1;33m\u001b[0m\u001b[1;33m\u001b[0m\u001b[0m\n\u001b[1;32m--> 463\u001b[1;33m         \u001b[1;32mraise\u001b[0m \u001b[0mexc\u001b[0m\u001b[1;33m.\u001b[0m\u001b[0mResourceClosedError\u001b[0m\u001b[1;33m(\u001b[0m\u001b[1;34m\"This Connection is closed\"\u001b[0m\u001b[1;33m)\u001b[0m\u001b[1;33m\u001b[0m\u001b[1;33m\u001b[0m\u001b[0m\n\u001b[0m\u001b[0;32m    464\u001b[0m \u001b[1;33m\u001b[0m\u001b[0m\n",
      "\u001b[1;31mResourceClosedError\u001b[0m: This Connection is closed",
      "\nThe above exception was the direct cause of the following exception:\n",
      "\u001b[1;31mStatementError\u001b[0m                            Traceback (most recent call last)",
      "\u001b[1;32m<ipython-input-24-930cc09328b4>\u001b[0m in \u001b[0;36m<module>\u001b[1;34m\u001b[0m\n\u001b[0;32m      1\u001b[0m \u001b[1;32mwith\u001b[0m \u001b[0mconn\u001b[0m \u001b[1;32mas\u001b[0m \u001b[0mcon\u001b[0m\u001b[1;33m:\u001b[0m\u001b[1;33m\u001b[0m\u001b[1;33m\u001b[0m\u001b[0m\n\u001b[0;32m      2\u001b[0m \u001b[1;33m\u001b[0m\u001b[0m\n\u001b[1;32m----> 3\u001b[1;33m     \u001b[0mrs\u001b[0m \u001b[1;33m=\u001b[0m \u001b[0mcon\u001b[0m\u001b[1;33m.\u001b[0m\u001b[0mexecute\u001b[0m\u001b[1;33m(\u001b[0m\u001b[1;34m\"\"\"SELECT * FROM earthquake limit 5;\"\"\"\u001b[0m\u001b[1;33m)\u001b[0m\u001b[1;33m\u001b[0m\u001b[1;33m\u001b[0m\u001b[0m\n\u001b[0m\u001b[0;32m      4\u001b[0m \u001b[1;33m\u001b[0m\u001b[0m\n\u001b[0;32m      5\u001b[0m     \u001b[1;32mfor\u001b[0m \u001b[0mrow\u001b[0m \u001b[1;32min\u001b[0m \u001b[0mrs\u001b[0m\u001b[1;33m:\u001b[0m\u001b[1;33m\u001b[0m\u001b[1;33m\u001b[0m\u001b[0m\n",
      "\u001b[1;32m~\\.conda\\envs\\PythonData2020_1\\lib\\site-packages\\sqlalchemy\\engine\\base.py\u001b[0m in \u001b[0;36mexecute\u001b[1;34m(self, object_, *multiparams, **params)\u001b[0m\n\u001b[0;32m    974\u001b[0m         \"\"\"\n\u001b[0;32m    975\u001b[0m         \u001b[1;32mif\u001b[0m \u001b[0misinstance\u001b[0m\u001b[1;33m(\u001b[0m\u001b[0mobject_\u001b[0m\u001b[1;33m,\u001b[0m \u001b[0mutil\u001b[0m\u001b[1;33m.\u001b[0m\u001b[0mstring_types\u001b[0m\u001b[1;33m[\u001b[0m\u001b[1;36m0\u001b[0m\u001b[1;33m]\u001b[0m\u001b[1;33m)\u001b[0m\u001b[1;33m:\u001b[0m\u001b[1;33m\u001b[0m\u001b[1;33m\u001b[0m\u001b[0m\n\u001b[1;32m--> 976\u001b[1;33m             \u001b[1;32mreturn\u001b[0m \u001b[0mself\u001b[0m\u001b[1;33m.\u001b[0m\u001b[0m_execute_text\u001b[0m\u001b[1;33m(\u001b[0m\u001b[0mobject_\u001b[0m\u001b[1;33m,\u001b[0m \u001b[0mmultiparams\u001b[0m\u001b[1;33m,\u001b[0m \u001b[0mparams\u001b[0m\u001b[1;33m)\u001b[0m\u001b[1;33m\u001b[0m\u001b[1;33m\u001b[0m\u001b[0m\n\u001b[0m\u001b[0;32m    977\u001b[0m         \u001b[1;32mtry\u001b[0m\u001b[1;33m:\u001b[0m\u001b[1;33m\u001b[0m\u001b[1;33m\u001b[0m\u001b[0m\n\u001b[0;32m    978\u001b[0m             \u001b[0mmeth\u001b[0m \u001b[1;33m=\u001b[0m \u001b[0mobject_\u001b[0m\u001b[1;33m.\u001b[0m\u001b[0m_execute_on_connection\u001b[0m\u001b[1;33m\u001b[0m\u001b[1;33m\u001b[0m\u001b[0m\n",
      "\u001b[1;32m~\\.conda\\envs\\PythonData2020_1\\lib\\site-packages\\sqlalchemy\\engine\\base.py\u001b[0m in \u001b[0;36m_execute_text\u001b[1;34m(self, statement, multiparams, params)\u001b[0m\n\u001b[0;32m   1143\u001b[0m         \u001b[0mdialect\u001b[0m \u001b[1;33m=\u001b[0m \u001b[0mself\u001b[0m\u001b[1;33m.\u001b[0m\u001b[0mdialect\u001b[0m\u001b[1;33m\u001b[0m\u001b[1;33m\u001b[0m\u001b[0m\n\u001b[0;32m   1144\u001b[0m         \u001b[0mparameters\u001b[0m \u001b[1;33m=\u001b[0m \u001b[0m_distill_params\u001b[0m\u001b[1;33m(\u001b[0m\u001b[0mmultiparams\u001b[0m\u001b[1;33m,\u001b[0m \u001b[0mparams\u001b[0m\u001b[1;33m)\u001b[0m\u001b[1;33m\u001b[0m\u001b[1;33m\u001b[0m\u001b[0m\n\u001b[1;32m-> 1145\u001b[1;33m         ret = self._execute_context(\n\u001b[0m\u001b[0;32m   1146\u001b[0m             \u001b[0mdialect\u001b[0m\u001b[1;33m,\u001b[0m\u001b[1;33m\u001b[0m\u001b[1;33m\u001b[0m\u001b[0m\n\u001b[0;32m   1147\u001b[0m             \u001b[0mdialect\u001b[0m\u001b[1;33m.\u001b[0m\u001b[0mexecution_ctx_cls\u001b[0m\u001b[1;33m.\u001b[0m\u001b[0m_init_statement\u001b[0m\u001b[1;33m,\u001b[0m\u001b[1;33m\u001b[0m\u001b[1;33m\u001b[0m\u001b[0m\n",
      "\u001b[1;32m~\\.conda\\envs\\PythonData2020_1\\lib\\site-packages\\sqlalchemy\\engine\\base.py\u001b[0m in \u001b[0;36m_execute_context\u001b[1;34m(self, dialect, constructor, statement, parameters, *args)\u001b[0m\n\u001b[0;32m   1175\u001b[0m             \u001b[0mcontext\u001b[0m \u001b[1;33m=\u001b[0m \u001b[0mconstructor\u001b[0m\u001b[1;33m(\u001b[0m\u001b[0mdialect\u001b[0m\u001b[1;33m,\u001b[0m \u001b[0mself\u001b[0m\u001b[1;33m,\u001b[0m \u001b[0mconn\u001b[0m\u001b[1;33m,\u001b[0m \u001b[1;33m*\u001b[0m\u001b[0margs\u001b[0m\u001b[1;33m)\u001b[0m\u001b[1;33m\u001b[0m\u001b[1;33m\u001b[0m\u001b[0m\n\u001b[0;32m   1176\u001b[0m         \u001b[1;32mexcept\u001b[0m \u001b[0mBaseException\u001b[0m \u001b[1;32mas\u001b[0m \u001b[0me\u001b[0m\u001b[1;33m:\u001b[0m\u001b[1;33m\u001b[0m\u001b[1;33m\u001b[0m\u001b[0m\n\u001b[1;32m-> 1177\u001b[1;33m             self._handle_dbapi_exception(\n\u001b[0m\u001b[0;32m   1178\u001b[0m                 \u001b[0me\u001b[0m\u001b[1;33m,\u001b[0m \u001b[0mutil\u001b[0m\u001b[1;33m.\u001b[0m\u001b[0mtext_type\u001b[0m\u001b[1;33m(\u001b[0m\u001b[0mstatement\u001b[0m\u001b[1;33m)\u001b[0m\u001b[1;33m,\u001b[0m \u001b[0mparameters\u001b[0m\u001b[1;33m,\u001b[0m \u001b[1;32mNone\u001b[0m\u001b[1;33m,\u001b[0m \u001b[1;32mNone\u001b[0m\u001b[1;33m\u001b[0m\u001b[1;33m\u001b[0m\u001b[0m\n\u001b[0;32m   1179\u001b[0m             )\n",
      "\u001b[1;32m~\\.conda\\envs\\PythonData2020_1\\lib\\site-packages\\sqlalchemy\\engine\\base.py\u001b[0m in \u001b[0;36m_handle_dbapi_exception\u001b[1;34m(self, e, statement, parameters, cursor, context)\u001b[0m\n\u001b[0;32m   1479\u001b[0m                 \u001b[0mutil\u001b[0m\u001b[1;33m.\u001b[0m\u001b[0mraise_\u001b[0m\u001b[1;33m(\u001b[0m\u001b[0mnewraise\u001b[0m\u001b[1;33m,\u001b[0m \u001b[0mwith_traceback\u001b[0m\u001b[1;33m=\u001b[0m\u001b[0mexc_info\u001b[0m\u001b[1;33m[\u001b[0m\u001b[1;36m2\u001b[0m\u001b[1;33m]\u001b[0m\u001b[1;33m,\u001b[0m \u001b[0mfrom_\u001b[0m\u001b[1;33m=\u001b[0m\u001b[0me\u001b[0m\u001b[1;33m)\u001b[0m\u001b[1;33m\u001b[0m\u001b[1;33m\u001b[0m\u001b[0m\n\u001b[0;32m   1480\u001b[0m             \u001b[1;32melif\u001b[0m \u001b[0mshould_wrap\u001b[0m\u001b[1;33m:\u001b[0m\u001b[1;33m\u001b[0m\u001b[1;33m\u001b[0m\u001b[0m\n\u001b[1;32m-> 1481\u001b[1;33m                 util.raise_(\n\u001b[0m\u001b[0;32m   1482\u001b[0m                     \u001b[0msqlalchemy_exception\u001b[0m\u001b[1;33m,\u001b[0m \u001b[0mwith_traceback\u001b[0m\u001b[1;33m=\u001b[0m\u001b[0mexc_info\u001b[0m\u001b[1;33m[\u001b[0m\u001b[1;36m2\u001b[0m\u001b[1;33m]\u001b[0m\u001b[1;33m,\u001b[0m \u001b[0mfrom_\u001b[0m\u001b[1;33m=\u001b[0m\u001b[0me\u001b[0m\u001b[1;33m\u001b[0m\u001b[1;33m\u001b[0m\u001b[0m\n\u001b[0;32m   1483\u001b[0m                 )\n",
      "\u001b[1;32m~\\.conda\\envs\\PythonData2020_1\\lib\\site-packages\\sqlalchemy\\util\\compat.py\u001b[0m in \u001b[0;36mraise_\u001b[1;34m(***failed resolving arguments***)\u001b[0m\n\u001b[0;32m    176\u001b[0m \u001b[1;33m\u001b[0m\u001b[0m\n\u001b[0;32m    177\u001b[0m         \u001b[1;32mtry\u001b[0m\u001b[1;33m:\u001b[0m\u001b[1;33m\u001b[0m\u001b[1;33m\u001b[0m\u001b[0m\n\u001b[1;32m--> 178\u001b[1;33m             \u001b[1;32mraise\u001b[0m \u001b[0mexception\u001b[0m\u001b[1;33m\u001b[0m\u001b[1;33m\u001b[0m\u001b[0m\n\u001b[0m\u001b[0;32m    179\u001b[0m         \u001b[1;32mfinally\u001b[0m\u001b[1;33m:\u001b[0m\u001b[1;33m\u001b[0m\u001b[1;33m\u001b[0m\u001b[0m\n\u001b[0;32m    180\u001b[0m             \u001b[1;31m# credit to\u001b[0m\u001b[1;33m\u001b[0m\u001b[1;33m\u001b[0m\u001b[1;33m\u001b[0m\u001b[0m\n",
      "\u001b[1;32m~\\.conda\\envs\\PythonData2020_1\\lib\\site-packages\\sqlalchemy\\engine\\base.py\u001b[0m in \u001b[0;36m_execute_context\u001b[1;34m(self, dialect, constructor, statement, parameters, *args)\u001b[0m\n\u001b[0;32m   1171\u001b[0m                 \u001b[0mconn\u001b[0m \u001b[1;33m=\u001b[0m \u001b[1;32mNone\u001b[0m\u001b[1;33m\u001b[0m\u001b[1;33m\u001b[0m\u001b[0m\n\u001b[0;32m   1172\u001b[0m             \u001b[1;32mif\u001b[0m \u001b[0mconn\u001b[0m \u001b[1;32mis\u001b[0m \u001b[1;32mNone\u001b[0m\u001b[1;33m:\u001b[0m\u001b[1;33m\u001b[0m\u001b[1;33m\u001b[0m\u001b[0m\n\u001b[1;32m-> 1173\u001b[1;33m                 \u001b[0mconn\u001b[0m \u001b[1;33m=\u001b[0m \u001b[0mself\u001b[0m\u001b[1;33m.\u001b[0m\u001b[0m_revalidate_connection\u001b[0m\u001b[1;33m(\u001b[0m\u001b[1;33m)\u001b[0m\u001b[1;33m\u001b[0m\u001b[1;33m\u001b[0m\u001b[0m\n\u001b[0m\u001b[0;32m   1174\u001b[0m \u001b[1;33m\u001b[0m\u001b[0m\n\u001b[0;32m   1175\u001b[0m             \u001b[0mcontext\u001b[0m \u001b[1;33m=\u001b[0m \u001b[0mconstructor\u001b[0m\u001b[1;33m(\u001b[0m\u001b[0mdialect\u001b[0m\u001b[1;33m,\u001b[0m \u001b[0mself\u001b[0m\u001b[1;33m,\u001b[0m \u001b[0mconn\u001b[0m\u001b[1;33m,\u001b[0m \u001b[1;33m*\u001b[0m\u001b[0margs\u001b[0m\u001b[1;33m)\u001b[0m\u001b[1;33m\u001b[0m\u001b[1;33m\u001b[0m\u001b[0m\n",
      "\u001b[1;32m~\\.conda\\envs\\PythonData2020_1\\lib\\site-packages\\sqlalchemy\\engine\\base.py\u001b[0m in \u001b[0;36m_revalidate_connection\u001b[1;34m(self)\u001b[0m\n\u001b[0;32m    461\u001b[0m             \u001b[0mself\u001b[0m\u001b[1;33m.\u001b[0m\u001b[0m__invalid\u001b[0m \u001b[1;33m=\u001b[0m \u001b[1;32mFalse\u001b[0m\u001b[1;33m\u001b[0m\u001b[1;33m\u001b[0m\u001b[0m\n\u001b[0;32m    462\u001b[0m             \u001b[1;32mreturn\u001b[0m \u001b[0mself\u001b[0m\u001b[1;33m.\u001b[0m\u001b[0m__connection\u001b[0m\u001b[1;33m\u001b[0m\u001b[1;33m\u001b[0m\u001b[0m\n\u001b[1;32m--> 463\u001b[1;33m         \u001b[1;32mraise\u001b[0m \u001b[0mexc\u001b[0m\u001b[1;33m.\u001b[0m\u001b[0mResourceClosedError\u001b[0m\u001b[1;33m(\u001b[0m\u001b[1;34m\"This Connection is closed\"\u001b[0m\u001b[1;33m)\u001b[0m\u001b[1;33m\u001b[0m\u001b[1;33m\u001b[0m\u001b[0m\n\u001b[0m\u001b[0;32m    464\u001b[0m \u001b[1;33m\u001b[0m\u001b[0m\n\u001b[0;32m    465\u001b[0m     \u001b[1;33m@\u001b[0m\u001b[0mproperty\u001b[0m\u001b[1;33m\u001b[0m\u001b[1;33m\u001b[0m\u001b[0m\n",
      "\u001b[1;31mStatementError\u001b[0m: (sqlalchemy.exc.ResourceClosedError) This Connection is closed\n[SQL: SELECT * FROM earthquake limit 5;]"
     ]
    }
   ],
   "source": [
    "with conn as con:\n",
    "    \n",
    "    rs = con.execute(\"\"\"SELECT * FROM earthquake limit 5;\"\"\")\n",
    "    \n",
    "    for row in rs:\n",
    "        print(row)\n",
    "        \n",
    "#con.close()"
   ]
  },
  {
   "cell_type": "code",
   "execution_count": 25,
   "metadata": {
    "ExecuteTime": {
     "end_time": "2020-06-27T14:45:02.430315Z",
     "start_time": "2020-06-27T14:45:02.423334Z"
    }
   },
   "outputs": [],
   "source": [
    "con.close()"
   ]
  },
  {
   "cell_type": "code",
   "execution_count": null,
   "metadata": {},
   "outputs": [],
   "source": []
  }
 ],
 "metadata": {
  "kernelspec": {
   "display_name": "Python 3.7.6 64-bit ('PythonData2020_1': conda)",
   "language": "python",
   "name": "python37664bitpythondata20201conda6baabde948e8485c8acdbdb1f5c8dec5"
  },
  "language_info": {
   "codemirror_mode": {
    "name": "ipython",
    "version": 3
   },
   "file_extension": ".py",
   "mimetype": "text/x-python",
   "name": "python",
   "nbconvert_exporter": "python",
   "pygments_lexer": "ipython3",
   "version": "3.8.3"
  },
  "latex_envs": {
   "LaTeX_envs_menu_present": true,
   "autoclose": false,
   "autocomplete": true,
   "bibliofile": "biblio.bib",
   "cite_by": "apalike",
   "current_citInitial": 1,
   "eqLabelWithNumbers": true,
   "eqNumInitial": 1,
   "hotkeys": {
    "equation": "Ctrl-E",
    "itemize": "Ctrl-I"
   },
   "labels_anchors": false,
   "latex_user_defs": false,
   "report_style_numbering": false,
   "user_envs_cfg": false
  },
  "toc": {
   "base_numbering": 1,
   "nav_menu": {},
   "number_sections": true,
   "sideBar": true,
   "skip_h1_title": false,
   "title_cell": "Table of Contents",
   "title_sidebar": "Contents",
   "toc_cell": false,
   "toc_position": {},
   "toc_section_display": true,
   "toc_window_display": false
  }
 },
 "nbformat": 4,
 "nbformat_minor": 4
}
